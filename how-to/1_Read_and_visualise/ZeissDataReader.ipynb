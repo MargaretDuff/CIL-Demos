{
 "cells": [
  {
   "cell_type": "markdown",
   "metadata": {},
   "source": [
    "### Load and visualise data with ZeissDataReader\n",
    "##### This example shows how to use the `ZeissDataReader` to load data from Zeiss .txrm files and quickly visualise the data and geometry\n"
   ]
  },
  {
   "cell_type": "markdown",
   "metadata": {},
   "source": [
    "Get the example dataset `dataexample.WALNUT` using `download_data()`."
   ]
  },
  {
   "cell_type": "code",
   "execution_count": null,
   "metadata": {},
   "outputs": [],
   "source": [
    "from cil.utilities import dataexample\n",
    "dataexample.WALNUT.download_data(data_dir='.', prompt=False)"
   ]
  },
  {
   "cell_type": "markdown",
   "metadata": {},
   "source": [
    "Now load a file from the dataset using the `ZEISSDataReader()`\n",
    "\n",
    "We specify the file to load using `file_name = \"../data/valnut/valnut_2014-03-21_643_28/tomo-A/valnut_tomo-A.txrm\"`"
   ]
  },
  {
   "cell_type": "code",
   "execution_count": 7,
   "metadata": {},
   "outputs": [],
   "source": [
    "from cil.io import ZEISSDataReader\n",
    "file_name = \"walnut/valnut/valnut_2014-03-21_643_28/tomo-A/valnut_tomo-A.txrm\"\n",
    "data_reader = ZEISSDataReader(file_name=file_name)\n",
    "data = data_reader.read()"
   ]
  },
  {
   "cell_type": "markdown",
   "metadata": {},
   "source": [
    "View the geometry with `show_geometry` to display information about the source and detector setup\n"
   ]
  },
  {
   "cell_type": "code",
   "execution_count": null,
   "metadata": {},
   "outputs": [],
   "source": [
    "from cil.utilities.display import show_geometry\n",
    "show_geometry(data.geometry)"
   ]
  },
  {
   "cell_type": "markdown",
   "metadata": {},
   "source": [
    "View the data with `show2D`"
   ]
  },
  {
   "cell_type": "code",
   "execution_count": null,
   "metadata": {},
   "outputs": [],
   "source": [
    "from cil.utilities.display import show2D\n",
    "show2D(data)"
   ]
  }
 ],
 "metadata": {
  "kernelspec": {
   "display_name": "cil_tests",
   "language": "python",
   "name": "python3"
  },
  "language_info": {
   "codemirror_mode": {
    "name": "ipython",
    "version": 3
   },
   "file_extension": ".py",
   "mimetype": "text/x-python",
   "name": "python",
   "nbconvert_exporter": "python",
   "pygments_lexer": "ipython3",
   "version": "3.10.14"
  }
 },
 "nbformat": 4,
 "nbformat_minor": 2
}
