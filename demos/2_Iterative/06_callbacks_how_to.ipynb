{
 "cells": [
  {
   "cell_type": "code",
   "execution_count": null,
   "metadata": {},
   "outputs": [],
   "source": [
    "# -*- coding: utf-8 -*-\n",
    "#  Copyright 2024 -  United Kingdom Research and Innovation\n",
    "#  Copyright 2024 -  The University of Manchester\n",
    "#\n",
    "#  Licensed under the Apache License, Version 2.0 (the \"License\");\n",
    "#  you may not use this file except in compliance with the License.\n",
    "#  You may obtain a copy of the License at\n",
    "#\n",
    "#      http://www.apache.org/licenses/LICENSE-2.0\n",
    "#\n",
    "#  Unless required by applicable law or agreed to in writing, software\n",
    "#  distributed under the License is distributed on an \"AS IS\" BASIS,\n",
    "#  WITHOUT WARRANTIES OR CONDITIONS OF ANY KIND, either express or implied.\n",
    "#  See the License for the specific language governing permissions and\n",
    "#  limitations under the License.\n",
    "#\n",
    "#   Authored by:    CIL contributors "
   ]
  },
  {
   "cell_type": "markdown",
   "metadata": {},
   "source": [
    "# CIL Callbacks How To\n",
    "\n",
    "Callbacks are an essential tool in many optimization frameworks, providing a flexible way to monitor and control the execution of algorithms. Similar to popular packages such as [`keras`](https://keras.io/api/callbacks/), [`scipy`](https://docs.scipy.org/doc/scipy/reference/generated/scipy.optimize.minimize.html#scipy.optimize.minimize), and [`pytorch`](https://pytorch.org/tnt/stable/framework/callbacks.html), CIL utilizes callbacks that can be passed to the `run` method of an algorithm. These callbacks have access to the entire state of the algorithm, allowing them to perform a wide range of tasks—from logging and saving progress to implementing early stopping conditions. By integrating callbacks, users can enhance the flexibility, efficiency, and functionality of their algorithms.\n",
    "\n",
    "In this demo, we explore the default behavior of callbacks in CIL and present a variety of example callbacks that can be customized to suit your needs. New callbacks are regularly added to CIL based on user requests, so be sure to check out the [documentation](https://tomographicimaging.github.io/CIL/nightly/optimisation/#callbacks) for the latest updates."
   ]
  },
  {
   "cell_type": "markdown",
   "metadata": {},
   "source": [
    "## Install CIL and set some defaults"
   ]
  },
  {
   "cell_type": "code",
   "execution_count": null,
   "metadata": {},
   "outputs": [],
   "source": [
    "\n",
    "from cil.utilities.display import show2D\n",
    "from cil.recon import FDK\n",
    "from cil.processors import TransmissionAbsorptionConverter, Slicer\n",
    "import numpy as np\n",
    "import matplotlib.pyplot as plt \n",
    "from cil.plugins.tigre import ProjectionOperator\n",
    "from cil.optimisation.algorithms import FISTA\n",
    "from cil.optimisation.functions import LeastSquares,  TotalVariation\n",
    "from cil.optimisation.utilities import callbacks\n",
    "from cil.framework import DataContainer\n",
    "\n",
    "\n",
    "# set up default colour map for visualisation\n",
    "cmap = \"gray\"\n",
    "\n",
    "# set the backend for FBP and the ProjectionOperator\n",
    "device = 'gpu'\n",
    "\n"
   ]
  },
  {
   "cell_type": "markdown",
   "metadata": {},
   "source": [
    "## Load Data\n",
    "\n",
    "In this example, we utilize CIL's simulated sphere data. To accelerate computations in this notebook, we extract a 2D slice from the 3D dataset. Additionally, we select a subset of angles to create a limited-angle reconstruction scenario. We will then compare the ground truth data with a filtered back projection (FBP) reconstruction under these limited-angle conditions.\n"
   ]
  },
  {
   "cell_type": "code",
   "execution_count": null,
   "metadata": {},
   "outputs": [],
   "source": [
    "from cil.utilities import dataexample\n",
    "#%% Load data\n",
    "ground_truth = dataexample.SIMULATED_SPHERE_VOLUME.get()\n",
    "\n",
    "data = dataexample.SIMULATED_CONE_BEAM_DATA.get()\n",
    "twoD = True\n",
    "if twoD:\n",
    "    data = data.get_slice(vertical='centre')\n",
    "    ground_truth = ground_truth.get_slice(vertical='centre')\n",
    "\n",
    "absorption = TransmissionAbsorptionConverter()(data)\n",
    "absorption = Slicer(roi={'angle':(0, -1, 5)})(absorption)\n",
    "\n",
    "ig = ground_truth.geometry\n",
    "\n",
    "#%%\n",
    "recon = FDK(absorption, image_geometry=ig).run()\n",
    "#%%\n",
    "show2D([ground_truth, recon], title = ['Ground Truth', 'FDK Reconstruction'], origin = 'upper', num_cols = 2)\n",
    "\n",
    "# %%\n"
   ]
  },
  {
   "cell_type": "markdown",
   "metadata": {},
   "source": [
    "## Default Behavior\n",
    "\n",
    "When no callback is passed to the `run` method, a progress bar is automatically displayed. This progress bar provides useful information, including the time elapsed, estimated time remaining, iterations per second, and the current objective value. Keep in mind that the current objective value updates at intervals determined by the `update_objective_interval` parameter set in the algorithm.\n"
   ]
  },
  {
   "cell_type": "code",
   "execution_count": null,
   "metadata": {},
   "outputs": [],
   "source": [
    "alpha=0.1\n",
    "A = ProjectionOperator(image_geometry=ig, \n",
    "                       acquisition_geometry=absorption.geometry)\n",
    "\n",
    "F = LeastSquares(A = A, b = absorption)\n",
    "G = alpha*TotalVariation(lower=0)\n",
    "\n",
    "algo=FISTA(initial=ig.allocate(0), f=F, g=G, update_objective_interval=1)\n",
    "algo.run(500)\n",
    "show2D([ground_truth, recon, algo.solution], title = ['Ground Truth', 'FDK Reconstruction', 'TV solution'], origin = 'upper', num_cols = 3)\n"
   ]
  },
  {
   "cell_type": "markdown",
   "metadata": {},
   "source": [
    "## Available CIL Callbacks\n",
    "\n",
    "Callbacks in CIL are provided as a list to the `run` method of an algorithm. In this example, we use two built-in CIL callbacks: `callbacks.ProgressCallback()` and `callbacks.TextProgressCallback()`. The first is the default callback that displays a progress bar, as demonstrated earlier. The second, `callbacks.TextProgressCallback()`, prints progress updates at intervals specified by `update_objective_interval`.\n",
    "\n",
    "It's important to note that if you don't pass any callbacks, the default behavior is to display the progress bar. However, if you choose to include other callbacks and still want the progress bar, you must explicitly include `callbacks.ProgressCallback()` in your list.\n"
   ]
  },
  {
   "cell_type": "code",
   "execution_count": null,
   "metadata": {},
   "outputs": [],
   "source": [
    "algo=FISTA(initial=ig.allocate(0), f=F, g=G, update_objective_interval=10)\n",
    "cb1=callbacks.ProgressCallback()\n",
    "cb2=callbacks.TextProgressCallback()\n",
    "algo.run(500, callbacks=[cb1, cb2])\n",
    "show2D([ground_truth, recon, algo.solution], title = ['Ground Truth', 'FDK Reconstruction', 'TV solution'], origin = 'upper', num_cols = 3)\n"
   ]
  },
  {
   "cell_type": "markdown",
   "metadata": {},
   "source": [
    "When you call the algorithm's `run` method again, it resumes from where it left off. To start fresh, you should redefine both the algorithm and the callbacks.\n"
   ]
  },
  {
   "cell_type": "code",
   "execution_count": null,
   "metadata": {},
   "outputs": [],
   "source": [
    "algo.run(100, callbacks=[cb1, cb2])"
   ]
  },
  {
   "cell_type": "markdown",
   "metadata": {},
   "source": [
    "## Early Stopping (Custom Callback Example)\n",
    "\n",
    "To create your own callback, define a class with a `__call__` method. It's a good practice to subclass the CIL `callbacks.Callback` class. The `__call__` method should take `self` and `algorithm` as arguments, where `algorithm` is an initialized CIL algorithm. This allows the callback to access and utilize any properties stored within the algorithm.\n",
    "\n",
    "In this example, the callback raises a `StopIteration` exception if a specified stopping criterion is met, forcing the algorithm to terminate early. You can see that the algorithm does not run for the full 500 iterations. \n"
   ]
  },
  {
   "cell_type": "code",
   "execution_count": null,
   "metadata": {},
   "outputs": [],
   "source": [
    "class EarlyStoppingObjective(callbacks.Callback):\n",
    "         def __call__(self, algorithm):\n",
    "               if algorithm.objective[-1] <= 2e-1:  # arbitrary stopping criterion\n",
    "                  raise StopIteration\n",
    "\n",
    "algo=FISTA(initial=ig.allocate(0), f=F, g=G, update_objective_interval=10)         \n",
    "algo.run(500, callbacks=[callbacks.TextProgressCallback(), EarlyStoppingObjective()])\n",
    "show2D([ground_truth, recon, algo.solution], title = ['Ground Truth', 'FDK Reconstruction', 'TV solution'], origin = 'upper', num_cols = 3)\n"
   ]
  },
  {
   "cell_type": "markdown",
   "metadata": {},
   "source": [
    "In another early stopping example, the algorithm terminates when the current solution approaches a given reference image. This example demonstrates a callback that accepts arguments upon initialization, allowing for more flexible and customized stopping criteria.\n"
   ]
  },
  {
   "cell_type": "code",
   "execution_count": null,
   "metadata": {},
   "outputs": [],
   "source": [
    "class EarlyStoppingReference(callbacks.Callback):\n",
    "      def __init__(self, ref_img):\n",
    "            self.ref=ref_img\n",
    "      def __call__(self, algorithm):\n",
    "            if np.mean((algorithm.solution.array-self.ref.array)**2) <= 3e-8:  # arbitrary stopping criterion\n",
    "                  raise StopIteration\n",
    "\n",
    "algo=FISTA(initial=ig.allocate(0), f=F, g=G, update_objective_interval=10)\n",
    "cb=EarlyStoppingReference(ground_truth)         \n",
    "algo.run(500, callbacks=[callbacks.TextProgressCallback(),cb ])\n",
    "show2D([ground_truth, recon, algo.solution], title = ['Ground Truth', 'FDK Reconstruction', 'TV solution'], origin = 'upper', num_cols = 3)"
   ]
  },
  {
   "cell_type": "markdown",
   "metadata": {},
   "source": [
    "## Calculating Data Discrepancy at Each Iteration (Custom Callback Example)\n",
    "\n",
    "In this example, a custom metric —specifically a least squares data discrepancy calculation— is computed at the end of each iteration and stored within the callback. We demonstrate how to initialize two callbacks to save the results from two different methods: FISTA with TV, with and without a lower bound enforced. The results are then plotted for comparison.\n"
   ]
  },
  {
   "cell_type": "code",
   "execution_count": null,
   "metadata": {},
   "outputs": [],
   "source": [
    "class DataDiscrepancyCallback(callbacks.Callback):\n",
    "    def __init__(self, A, data):\n",
    "        self.f = LeastSquares(A, data)\n",
    "        self.save_values=[]\n",
    "\n",
    "    def __call__(self, algorithm):\n",
    "        self.save_values.append(self.f(algorithm.get_output()))\n",
    "\n",
    "mycallback_FISTA_lower_bound= DataDiscrepancyCallback(A, absorption)\n",
    "algo1=FISTA(initial=ig.allocate(0), f=F, g=alpha*TotalVariation(lower=0), update_objective_interval=10)         \n",
    "algo1.run(500, callbacks=[mycallback_FISTA_lower_bound])\n",
    "\n",
    "        \n",
    "mycallback_FISTA_no_lower_bound= DataDiscrepancyCallback(A, absorption)\n",
    "algo2=FISTA(initial=ig.allocate(0), f=F, g=alpha*TotalVariation(), update_objective_interval=10)         \n",
    "algo2.run(500, callbacks=[mycallback_FISTA_no_lower_bound])\n",
    "\n",
    "\n",
    "show2D([ground_truth, algo1.get_output(), algo2.get_output()], title=['ground_truth', 'FISTA_lower_bound', 'FISTA_no_lower_bound'], num_cols=3)\n",
    "show2D([absorption, A.direct(algo1.get_output())-absorption, A.direct(algo2.get_output())-absorption], title=['ground_truth', 'Data error FISTA_lower_bound', 'Data error FISTA_no_lower_bound'], fix_range=[[0,3], [-0.02, 0.02], [-0.02, 0.02]], cmap=['gray', 'seismic', 'seismic'], num_cols=3)\n",
    "plt.plot(range(10,501), mycallback_FISTA_lower_bound.save_values[10:], label='FISTA TV with lower bound ')\n",
    "plt.plot(range(10, 501), mycallback_FISTA_no_lower_bound.save_values[10:], label='FISTA TV without lower bound ')\n",
    "plt.yscale('log')\n",
    "plt.ylabel('Data discrepancy')\n",
    "plt.xlabel('Iteration')\n",
    "plt.legend()"
   ]
  },
  {
   "cell_type": "markdown",
   "metadata": {},
   "source": [
    "We see that the without the lower bound, the reconstruction overfits to the noisy absorption data. "
   ]
  },
  {
   "cell_type": "markdown",
   "metadata": {},
   "source": [
    "## Calculating a Noise Approximation for Each Iteration (Custom Callback Example)\n",
    "\n",
    "In this example, we define a custom callback that saves the values of a wavelet-based estimator of Gaussian noise standard deviation, provided by `skimage`, at each iteration. Using TV regularization and a FISTA optimization algorithm with a lower bound, we compare how the noise level in the solution changes for two different regularization parameters: a small value (0.1) and a larger value (1).\n"
   ]
  },
  {
   "cell_type": "code",
   "execution_count": null,
   "metadata": {},
   "outputs": [],
   "source": [
    "import skimage\n",
    "\n",
    "class SigmaEstimateCallback(callbacks.Callback):\n",
    "    def __init__(self):\n",
    "\n",
    "        self.save_values=[]\n",
    "\n",
    "    def __call__(self, algorithm):\n",
    "        self.save_values.append(skimage.restoration.estimate_sigma(algorithm.get_output().as_array()))\n",
    "\n",
    "mycallback_FISTA_TV_alpha_01= SigmaEstimateCallback()\n",
    "algo1=FISTA(initial=ig.allocate(0), f=F, g=0.1*TotalVariation(lower=0), update_objective_interval=10)         \n",
    "algo1.run(500, callbacks=[mycallback_FISTA_TV_alpha_01])\n",
    "\n",
    "        \n",
    "mycallback_FISTA_TV_alpha_1= SigmaEstimateCallback()\n",
    "algo2=FISTA(initial=ig.allocate(0), f=F, g=1*TotalVariation(lower=0), update_objective_interval=10)         \n",
    "algo2.run(500, callbacks=[mycallback_FISTA_TV_alpha_1])\n",
    "\n",
    "\n",
    "show2D([ground_truth, algo1.get_output(), algo2.get_output()], title=['ground_truth', 'FISTA_TV_alpha_01', 'FISTA_TV_alpha_1'], num_cols=3)\n",
    "show2D([absorption, A.direct(algo1.get_output())-absorption, A.direct(algo2.get_output())-absorption], title=['ground_truth', 'Data error FISTA_TV_alpha_01', 'Data error FISTA_TV_alpha_1'], fix_range=[[0,3], [-0.02, 0.02], [-0.02, 0.02]], cmap=['gray', 'seismic', 'seismic'], num_cols=3)\n",
    "plt.plot(range(10,501), mycallback_FISTA_TV_alpha_01.save_values[10:], label='FISTA TV alpha=0.1 ')\n",
    "plt.plot(range(10, 501), mycallback_FISTA_TV_alpha_1.save_values[10:], label='FISTA TV alpha=1.0 ')\n",
    "plt.ylabel('Noise Estimate')\n",
    "plt.xlabel('Iteration')\n",
    "plt.legend()\n",
    "                                   \n",
    "                            "
   ]
  },
  {
   "cell_type": "markdown",
   "metadata": {},
   "source": [
    "We see with a larger regularisation parameter, the resulting image is less noisy. "
   ]
  },
  {
   "cell_type": "markdown",
   "metadata": {},
   "source": [
    "## Image metric callbacks (complex custom callback example) \n",
    "We now move on to some more complex callbacks. In this callback, a dictionary of metrics are calculated and printed each `print_interval`. "
   ]
  },
  {
   "cell_type": "code",
   "execution_count": null,
   "metadata": {},
   "outputs": [],
   "source": [
    "\n",
    "class MetricsDiagnostics(callbacks.Callback):\n",
    "    \"\"\"\n",
    "      Parameters\n",
    "    ----------\n",
    "\n",
    "    reference_image: CIL or STIR ImageData\n",
    "      containing the reference image used to calculate the metrics\n",
    "\n",
    "      \n",
    "    metrics_dict : dictionary of lambda functions f(x,y) mapping\n",
    "      two 1-dimensional numpy arrays x and y to a scalar value or a\n",
    "      numpy.ndarray.\n",
    "      x and y can be the voxel values of the whole images or the values of\n",
    "      voxels in a ROI such that the metric can be computed on the whole\n",
    "      images and optionally in the ROIs separately.\n",
    "\n",
    "      E.g. f(x,y) could be MSE(x,y), PSNR(x,y), MAE(x,y)\n",
    "      \n",
    "    print_interval: positive integer\n",
    "        The results are calculated and printed every `print_interval` number of iterations \n",
    "\n",
    "\n",
    "    \"\"\"\n",
    "\n",
    "    def __init__(self, reference_image, metrics_dict, print_interval=1):\n",
    "\n",
    "        # reference image as numpy (level) array\n",
    "        self.reference_image = reference_image      \n",
    "        self.metrics_dict = metrics_dict\n",
    "        # if data_range is None:\n",
    "            # self.data_range = np.abs(self.reference_image.max() - self.reference_image.min())\n",
    "        self.computed_metrics = []    \n",
    "        self.print_interval=print_interval\n",
    "\n",
    "        super(MetricsDiagnostics, self).__init__()  \n",
    "\n",
    "    def __call__(self, algo):\n",
    "\n",
    "            \n",
    "        for metric_name, metric_func in self.metrics_dict.items():\n",
    "\n",
    "            if not hasattr(algo, metric_name):\n",
    "                setattr(algo, metric_name, [])   \n",
    "                \n",
    "            metric_list = getattr(algo, metric_name)\n",
    "            metric_value = metric_func(self.reference_image, algo.get_output())\n",
    "            metric_list.append(metric_value)\n",
    "            \n",
    "            self.computed_metrics.append(metric_value)\n",
    "            \n",
    "        if algo.iteration == 0:\n",
    "                    \n",
    "            print (self.callback_header())\n",
    "        \n",
    "        print(self.callback_iteration())  \n",
    "            \n",
    "               \n",
    "    def callback_header(self):\n",
    "        return \" \".join(\"{:>20}\".format(metric_name) for metric_name in self.metrics_dict.keys())\n",
    "\n",
    "    def callback_iteration(self):\n",
    "        if isinstance(self.computed_metrics, list):\n",
    "            # Handle list of metrics\n",
    "            return \" \".join(\"{:>20.5e}\".format(metric) for metric in self.computed_metrics[-len(self.metrics_dict):])\n",
    "        else:\n",
    "            # Handle single metric\n",
    "            return \"{:>20.5e}\".format(self.computed_metrics)     \n",
    "        \n",
    "\n",
    "from cil.utilities.quality_measures import mae, psnr, mse \n",
    "metric_callback= MetricsDiagnostics(ground_truth, {'MSE':mse, 'MAE':mae, 'PSNR':psnr})\n",
    "algo=FISTA(initial=ig.allocate(0), f=F, g=G, update_objective_interval=10)         \n",
    "algo.run(100, callbacks=[metric_callback])"
   ]
  },
  {
   "cell_type": "markdown",
   "metadata": {},
   "source": [
    "## Image metric callbacks with region of interest (complex custom callback example) \n",
    "\n",
    "For another complex example. This callback takes a reference image, region of interest mask and a dictionary of metrics and a dictionary of statisitcs to evaluate at each iteration. We define some regions of interest and then can plot the metrics for the different regions of interest. "
   ]
  },
  {
   "cell_type": "code",
   "execution_count": null,
   "metadata": {},
   "outputs": [],
   "source": [
    "class ImageQualityCallback(callbacks.Callback):\n",
    "    \"\"\"\n",
    "      Parameters\n",
    "    ----------\n",
    "\n",
    "    reference_image: CIL or STIR ImageData\n",
    "      containing the reference image used to calculate the metrics\n",
    "\n",
    "    roi_mask_dict : dictionary of ImageData objects\n",
    "      list containing one binary ImageData object for every ROI to be\n",
    "      evaluated. Voxels with values 1 are considered part of the ROI\n",
    "      and voxels with value 0 are not.\n",
    "      Dimension of the ROI mask images must be the same as the dimension of\n",
    "      the reference image.\n",
    "      \n",
    "    metrics_dict : dictionary of lambda functions f(x,y) mapping\n",
    "      two 1-dimensional numpy arrays x and y to a scalar value or a\n",
    "      numpy.ndarray.\n",
    "      x and y can be the voxel values of the whole images or the values of\n",
    "      voxels in a ROI such that the metric can be computed on the whole\n",
    "      images and optionally in the ROIs separately.\n",
    "\n",
    "      E.g. f(x,y) could be MSE(x,y), PSNR(x,y), MAE(x,y)\n",
    "\n",
    "    statistics_dict : dictionary of lambda functions f(x) mapping a \n",
    "      1-dimensional numpy array x to a scalar value or a numpy.ndarray.\n",
    "      E.g. mean(x), std_deviation(x) that calculate global and / or\n",
    "      ROI mean and standard deviations.\n",
    "\n",
    "      E.g. f(x) could be x.mean()\n",
    "\n",
    "\n",
    "\n",
    "\n",
    "      \"\"\"\n",
    "      \n",
    "    def __init__(self, reference_image, \n",
    "                       roi_mask_dict   = None,\n",
    "                       metrics_dict    = None,\n",
    "                       statistics_dict = None,\n",
    "                       ):\n",
    "\n",
    "        # the reference image\n",
    "        self.reference_image = reference_image\n",
    "\n",
    "\n",
    "        self.roi_indices_dict = {}\n",
    "        self.roi_store=[]\n",
    "\n",
    "\n",
    "\n",
    "        self.roi_mask_dict=roi_mask_dict\n",
    "        \n",
    "        \n",
    "        self.metrics_dict = metrics_dict\n",
    "        self.metrics_store={}\n",
    "        for key, value in self.metrics_dict.items():\n",
    "                self.metrics_store['global_'+key] = []\n",
    "                if roi_mask_dict is not None:\n",
    "                  for roi_name, value in roi_mask_dict.items():\n",
    "                    self.metrics_store[roi_name+'_'+key] = []\n",
    "\n",
    "        self.statistics_dict = statistics_dict\n",
    "        self.stat_store={}\n",
    "        for key, value in self.statistics_dict.items():\n",
    "                self.stat_store['global_'+key] = []\n",
    "                if roi_mask_dict is not None:\n",
    "                  for roi_name, value in roi_mask_dict.items():\n",
    "                    self.stat_store[roi_name+'_'+key] = []\n",
    "                \n",
    "    def __call__(self, algorithm):\n",
    "            if self.metrics_dict is not None:\n",
    "                for metric_name, metric in self.metrics_dict.items():\n",
    "                    ans = metric(self.reference_image, algorithm.x)\n",
    "                    self.metrics_store['global_'+metric_name].append(ans)\n",
    "                    \n",
    "                    \n",
    "                    for roi_name, roi in self.roi_mask_dict.items():\n",
    "                      ans = metric(self.reference_image, algorithm.x, mask=roi)\n",
    "                      self.metrics_store[roi_name+'_'+metric_name].append(ans)\n",
    "                       \n",
    "                    \n",
    "                    \n",
    "            if self.statistics_dict is not None:\n",
    "                for statistic_name, stat in self.statistics_dict.items():\n",
    "                    ans = stat( algorithm.x.array, np._NoValue)\n",
    "                    self.stat_store['global_'+statistic_name].append(ans)\n",
    "                    \n",
    "                    \n",
    "                    for roi_name, roi in self.roi_mask_dict.items():\n",
    "                        ans = stat( algorithm.x.array, roi.array.astype('bool'))\n",
    "                        self.stat_store[roi_name+'_'+statistic_name].append(ans)\n",
    "                        \n",
    "        \n",
    "                    \n",
    "                    \n",
    "       \n",
    "\n"
   ]
  },
  {
   "cell_type": "code",
   "execution_count": null,
   "metadata": {},
   "outputs": [],
   "source": [
    "#%% create masks\n",
    "top = ig.allocate(0)\n",
    "bottom = ig.allocate(0)\n",
    "\n",
    "top.fill(\n",
    "    np.asarray(ground_truth.array > 0.8 * ground_truth.max(), \n",
    "               dtype=np.float32)\n",
    "    )\n",
    "bottom.fill(\n",
    "    np.asarray(np.invert(ground_truth.array < 0.4 * ground_truth.max()), \n",
    "               dtype=np.float32)\n",
    ")\n",
    "\n",
    "\n",
    "\n",
    "roi_image_dict = {\n",
    "    'top' : top,\n",
    "    'bottom' : bottom\n",
    "}\n",
    "\n",
    "show2D([ground_truth, top, bottom], num_cols=3)"
   ]
  },
  {
   "cell_type": "code",
   "execution_count": null,
   "metadata": {},
   "outputs": [],
   "source": [
    "from cil.utilities.quality_measures import mae, psnr, mse \n",
    "img_qual_callback = ImageQualityCallback(ground_truth,\n",
    "                                              roi_mask_dict = roi_image_dict,\n",
    "                                              metrics_dict = {'MSE':mse, \n",
    "                                                              'MAE':mae, \n",
    "                                                              'PSNR':psnr},\n",
    "                                              statistics_dict = {'MEAN': (lambda x, y: np.mean(x, where=y)),\n",
    "                                                                 'STDDEV': (lambda x, y: np.std(x, where=y)),\n",
    "                                                                 'MAX': (lambda x, y: np.max(x, where=y, initial=0))},\n",
    "                                              )"
   ]
  },
  {
   "cell_type": "code",
   "execution_count": null,
   "metadata": {},
   "outputs": [],
   "source": [
    "algo=FISTA(initial=ig.allocate(0), f=F, g=G, update_objective_interval=10)         \n",
    "algo.run(500, callbacks=[img_qual_callback])\n",
    "show2D([ground_truth, recon, algo.solution], title = ['Ground Truth', 'FDK Reconstruction', 'TV solution'], origin = 'upper', num_cols = 3)"
   ]
  },
  {
   "cell_type": "code",
   "execution_count": null,
   "metadata": {},
   "outputs": [],
   "source": [
    "plt.plot(range(501), img_qual_callback.metrics_store['global_MSE'])\n",
    "plt.ylabel('MSE')\n",
    "plt.xlabel('Iteration number')\n",
    "plt.title('Mean squared error against iteration number')\n"
   ]
  },
  {
   "cell_type": "code",
   "execution_count": null,
   "metadata": {},
   "outputs": [],
   "source": [
    "plt.plot(range(501), img_qual_callback.metrics_store['top_PSNR'], label='Top')\n",
    "plt.plot(range(501), img_qual_callback.metrics_store['global_PSNR'], label='Global')\n",
    "plt.plot(range(501), img_qual_callback.metrics_store['bottom_PSNR'], label='Bottom')\n",
    "plt.xlabel('Iteration number')\n",
    "plt.ylabel('PSNR')\n",
    "plt.title(' PSNR for the different regions of interest')\n",
    "plt.legend()"
   ]
  },
  {
   "cell_type": "code",
   "execution_count": null,
   "metadata": {},
   "outputs": [],
   "source": []
  }
 ],
 "metadata": {
  "kernelspec": {
   "display_name": "cil_testing2",
   "language": "python",
   "name": "python3"
  },
  "language_info": {
   "codemirror_mode": {
    "name": "ipython",
    "version": 3
   },
   "file_extension": ".py",
   "mimetype": "text/x-python",
   "name": "python",
   "nbconvert_exporter": "python",
   "pygments_lexer": "ipython3",
   "version": "3.12.4"
  }
 },
 "nbformat": 4,
 "nbformat_minor": 2
}
