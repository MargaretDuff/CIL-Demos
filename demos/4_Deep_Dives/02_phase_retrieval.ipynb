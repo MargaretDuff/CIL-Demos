{
 "cells": [
  {
   "cell_type": "code",
   "execution_count": 1,
   "metadata": {},
   "outputs": [],
   "source": [
    "# -*- coding: utf-8 -*-\n",
    "#  Copyright 2024 -  United Kingdom Research and Innovation\n",
    "#  Copyright 2024 -  The University of Manchester\n",
    "#\n",
    "#  Licensed under the Apache License, Version 2.0 (the \"License\");\n",
    "#  you may not use this file except in compliance with the License.\n",
    "#  You may obtain a copy of the License at\n",
    "#\n",
    "#      http://www.apache.org/licenses/LICENSE-2.0\n",
    "#\n",
    "#  Unless required by applicable law or agreed to in writing, software\n",
    "#  distributed under the License is distributed on an \"AS IS\" BASIS,\n",
    "#  WITHOUT WARRANTIES OR CONDITIONS OF ANY KIND, either express or implied.\n",
    "#  See the License for the specific language governing permissions and\n",
    "#  limitations under the License.\n",
    "#\n",
    "#   Authored by:    Hannah Robarts (STFC - UKRI)\n",
    "#                   Laura Murgatroyd (STFC - UKRI)"
   ]
  },
  {
   "cell_type": "markdown",
   "metadata": {},
   "source": [
    "# Paganin Processor \n",
    "This deep-dive contains some examples and comparisons of using the `PaganinProcessor` phase retrieval methods in CIL."
   ]
  },
  {
   "cell_type": "markdown",
   "metadata": {},
   "source": [
    "#### Phase contrast imaging\n",
    "Phase contrast imaging is commonly used in tomography as a tool to exploit the different contrast provided by absorption and phase.\n",
    "\n",
    "In absorption contrast imaging, variation in beam intensity $I$ is given by,\n",
    "$$\n",
    "I  = I_0\\exp(-\\mu T),\n",
    "$$\n",
    "where $T$ is the material thickness and $\\mu$ is the material linear attenuation coefficient. We can also express $\\mu$ in terms of the **complex** part of the material refractive index $\\mu = 2k\\beta$ where $k$ is the wavevector of the x-rays (or other probe).\n",
    "\n",
    "Variation in material phase $\\phi$ is given by,\n",
    "$$\n",
    "\\phi = -k\\delta T,\n",
    "$$\n",
    "where $\\delta$ is the **real** part of the material refractive index.\n",
    "\n",
    "Phase contrast imaging is commonly used in samples which give poor absorption contrast, like light element materials, to resolve details which might not otherwise be resolved with absorption contrast alone.\n",
    "\n",
    "#### Propagation-based phase contrast\n",
    "The simplest methods to enable phase contrast imaging are propagation-based methods. These rely on the fact that a phase shift caused by the sample results in the x-rays (or other probe) propagating differently, or refracting, which is measured as a variation in intensity at the detector after some propagation distance $\\Delta$. This causes bright fringes around edges in the sample, known as edge enhancement. These can be really helpful for highlighting features in the sample, for example for segmentation.\n",
    "\n",
    "#### Phase retrieval\n",
    "However, edge-enhancement changes the intensity profile in the projections by combining the absorption and phase information. So in certain circumstances - for example where quantitative measurement of sample features is required - phase retrieval methods are used to separate these effects. This notebook uses the commonly used Paganin phase retrieval method which accounts for the change in intensity due to phase effects to retrieve the sample thickness from phase contrast images [[1](https://onlinelibrary.wiley.com/doi/10.1046/j.1365-2818.2002.01010.x)]. The form of the phase retrieval additionally acts as a filter on the data, which if used with the correct physical parameters, results in a boost to the signal to noise ratio (SNR) without losing spatial resolution. Paganin phase retrieval is therefore also commonly used as a filter to boost SNR in many different contexts.\n",
    "\n",
    "[1] D. Paganin et al. \"Simultaneous phase and amplitude extraction from a single defocused image of a homogeneous object.\" Journal of Microscopy, 206 (2002): 33-40.  https://doi.org/10.1046/j.1365-2818.2002.01010.x "
   ]
  },
  {
   "cell_type": "markdown",
   "metadata": {},
   "source": [
    "This notebook requires CIL v24.1.0 or greater, check the version below"
   ]
  },
  {
   "cell_type": "code",
   "execution_count": null,
   "metadata": {},
   "outputs": [],
   "source": [
    "import cil\n",
    "print(cil.__version__)"
   ]
  },
  {
   "cell_type": "markdown",
   "metadata": {},
   "source": [
    "Load some dependencies"
   ]
  },
  {
   "cell_type": "code",
   "execution_count": 3,
   "metadata": {},
   "outputs": [],
   "source": [
    "from cil.utilities import dataexample\n",
    "from cil.processors import PaganinProcessor, TransmissionAbsorptionConverter, Padder, Normaliser\n",
    "from cil.utilities.display import show2D\n",
    "from cil.recon import FDK, FBP\n",
    "from cil.io.utilities import HDF5_utilities\n",
    "from cil.framework import AcquisitionGeometry, AcquisitionData\n",
    "import numpy as np\n",
    "import matplotlib.pyplot as plt \n",
    "from scipy import constants"
   ]
  },
  {
   "cell_type": "markdown",
   "metadata": {},
   "source": [
    "##### Simulated parallel beam data"
   ]
  },
  {
   "cell_type": "markdown",
   "metadata": {},
   "source": [
    "First we test the PaganinProcessor with a simulated data example from CIL just to show how the processor works. \n",
    "`dataexample.SIMULATED_PARALLEL_BEAM_DATA` is a simualted dataset with parallel beam geometry"
   ]
  },
  {
   "cell_type": "code",
   "execution_count": 4,
   "metadata": {},
   "outputs": [],
   "source": [
    "data = dataexample.SIMULATED_PARALLEL_BEAM_DATA.get()"
   ]
  },
  {
   "cell_type": "markdown",
   "metadata": {},
   "source": [
    "We convert from transmission to absorption, get a single slice, and reconstruct the data using CIL filtered back projection `FBP()`"
   ]
  },
  {
   "cell_type": "code",
   "execution_count": 5,
   "metadata": {},
   "outputs": [],
   "source": [
    "data_abs = -1*data.log()\n",
    "# get a slice\n",
    "vertical_slice = 64\n",
    "data_slice = data_abs.get_slice(vertical=vertical_slice)\n",
    "ig = data_slice.geometry.get_ImageGeometry()\n",
    "# reconstruct the slice\n",
    "fbp =  FBP(data_slice, ig)\n",
    "recon = fbp.run(verbose=0)"
   ]
  },
  {
   "cell_type": "markdown",
   "metadata": {},
   "source": [
    "Next we run the phase retrieval on the same data with the `PaganinProcessor` which is implemented based on [[1](https://onlinelibrary.wiley.com/doi/10.1046/j.1365-2818.2002.01010.x)]. The processor returns the material retrieved thickness $T$, removing the effect of phase in the image\n",
    "\n",
    "$$\n",
    "T(x,y) = - \\frac{1}{\\mu}\\ln\\left (\\mathcal{F}^{-1}\\left \n",
    "        (\\frac{\\mathcal{F}\\left ( M^2I_{norm}(x, y,z = \\Delta) \\right )}{1 + \n",
    "          \\alpha\\left ( k_x^2 + k_y^2 \\right )}  \\right )\\right )\n",
    "$$\n",
    "\n",
    "where\n",
    "- $\\mu = \\frac{4\\pi\\beta}{\\lambda}$ is the material linear \n",
    "attenuation coefficient where $\\beta$ is the complex part of the \n",
    "material refractive index and $\\lambda=\\frac{hc}{E}$ is the probe \n",
    "wavelength,\n",
    "- $M$ is the magnification at the detector,\n",
    "- $I_{norm}$ is the input image which is expected to be the \n",
    "normalised transmission data, \n",
    "- $\\Delta$ is the propagation distance,\n",
    "- $\\alpha = \\frac{\\Delta\\delta}{\\mu}$ is a parameter determining \n",
    "the strength of the filter to be applied in Fourier space where \n",
    "$\\delta$ is the real part of the deviation of the material \n",
    "refractive index from 1 \n",
    "- $k_x, k_y = \\left ( \\frac{2\\pi p}{N_xW}, \\frac{2\\pi q}{N_yW} \n",
    "\\right )$ where $p$ and $q$ are co-ordinates in a Fourier \n",
    "mesh in the range $-N_x/2$ to $N_x/2$ for an image with \n",
    "size $N_x, N_y$ and pixel size $W$.\n",
    "\n",
    "[1] D. Paganin et al. \"Simultaneous phase and amplitude extraction from a single defocused image of a homogeneous object.\" Journal of Microscopy, 206 (2002): 33-40.  https://doi.org/10.1046/j.1365-2818.2002.01010.x \n"
   ]
  },
  {
   "cell_type": "markdown",
   "metadata": {},
   "source": [
    "First check if the propagation distance, pixel sizes and units are already stored in the data geometry."
   ]
  },
  {
   "cell_type": "code",
   "execution_count": null,
   "metadata": {},
   "outputs": [],
   "source": [
    "print(data.geometry.dist_center_detector)\n",
    "print(data.geometry.pixel_size_h)\n",
    "print(data.geometry.config.units)"
   ]
  },
  {
   "cell_type": "markdown",
   "metadata": {},
   "source": [
    "There is no propagation distance stored which is common for parallel beam data as it isn't needed for a simple reconstruction. We can either create the geometry again with the propagation distance defined or use the override geometry argument. The units for override geometry are defined in `PaganinProcessor`, by default this is cm. In the data there are pixels but no units, so we need to specify the units are um"
   ]
  },
  {
   "cell_type": "code",
   "execution_count": 7,
   "metadata": {},
   "outputs": [],
   "source": [
    "override_geometry={'propagation_distance':10} # units cm\n",
    "data.geometry.config.units = 'um'\n"
   ]
  },
  {
   "cell_type": "markdown",
   "metadata": {},
   "source": [
    "Specify the experiment peak energy and units"
   ]
  },
  {
   "cell_type": "code",
   "execution_count": 8,
   "metadata": {},
   "outputs": [],
   "source": [
    "energy = 40000\n",
    "energy_units = 'eV'"
   ]
  },
  {
   "cell_type": "markdown",
   "metadata": {},
   "source": [
    "Choose $\\delta$ and $\\beta$, the real and complex part of the material refractive index. These can be found for real materials at x-ray wavelengths at [[2](https://henke.lbl.gov/optical_constants/getdb2.html)]. \n",
    "\n",
    "A larger difference between $\\delta$ and $\\beta$ results in a stronger phase retrieval, or stronger filtering effect, \n",
    "\n",
    "Here we do not use physical parameters, but instead use a large difference between $\\delta$ and $\\beta$ to demonstrate the effect. \n",
    "\n",
    "[2] Lawrence Berkeley National Laboratory, Centre for X-Ray Optics - X-Ray Interactions With Matter: Refractive Indices https://henke.lbl.gov/optical_constants/getdb2.html\n"
   ]
  },
  {
   "cell_type": "code",
   "execution_count": 9,
   "metadata": {},
   "outputs": [],
   "source": [
    "delta = 1\n",
    "beta = 0.002"
   ]
  },
  {
   "cell_type": "markdown",
   "metadata": {},
   "source": [
    "Set up the `PaganinProcessor` with all the above parameters"
   ]
  },
  {
   "cell_type": "code",
   "execution_count": null,
   "metadata": {},
   "outputs": [],
   "source": [
    "processor = PaganinProcessor(delta=delta, beta=beta, energy=energy)\n",
    "processor.set_input(data)\n",
    "thickness = processor.get_output(override_geometry=override_geometry)"
   ]
  },
  {
   "cell_type": "markdown",
   "metadata": {},
   "source": [
    "Reconstruct a slice of the data"
   ]
  },
  {
   "cell_type": "code",
   "execution_count": 11,
   "metadata": {},
   "outputs": [],
   "source": [
    "# get a slice\n",
    "data_slice = thickness.get_slice(vertical=vertical_slice)\n",
    "# reconstruct the slice\n",
    "fbp =  FBP(data_slice, ig)\n",
    "recon_thickness = fbp.run(verbose=0)"
   ]
  },
  {
   "cell_type": "markdown",
   "metadata": {},
   "source": [
    "So far we have the retrieved thickness, but to get the reconstruction on the same scale as the original data we have to multiply by the linear attenuation coefficient. We can get this from the `PaganinProcessor` by calling `processor.mu`. Multiply $\\mu$ by $T$ and reconstruct."
   ]
  },
  {
   "cell_type": "code",
   "execution_count": 12,
   "metadata": {},
   "outputs": [],
   "source": [
    "attenuation = thickness*processor.mu\n",
    "# get a slice\n",
    "data_slice = attenuation.get_slice(vertical=vertical_slice)\n",
    "# reconstruct the slice\n",
    "fbp =  FBP(data_slice, ig)\n",
    "recon_attenuation = fbp.run(verbose=0)"
   ]
  },
  {
   "cell_type": "markdown",
   "metadata": {},
   "source": [
    "Next we test the phase retrieval using `PaganinProcessor(full_retrieval=False)`. In this implementation, the same filter is applied in Fourier space but the $-log()$ is not applied. \n",
    "$$\n",
    "I_{filt} = \\mathcal{F}^{-1}\\left (\\frac{\\mathcal{F}\\left ( \n",
    "        I(x, y,z = \\Delta) \\right )}\n",
    "        {1 - \\alpha\\left ( k_x^2 + k_y^2 \\right )}  \\right )\n",
    "$$\n",
    "This gives flexibility to apply a Paganin-like filter but doesn't require data that has already been converted from transmission to absorption.\n"
   ]
  },
  {
   "cell_type": "code",
   "execution_count": null,
   "metadata": {},
   "outputs": [],
   "source": [
    "data_abs.geometry.config.units = 'um'\n",
    "processor = PaganinProcessor(delta=delta, beta=beta, energy=energy, full_retrieval=False)\n",
    "processor.set_input(data_abs)\n",
    "filtered_image = processor.get_output(override_geometry=override_geometry)"
   ]
  },
  {
   "cell_type": "markdown",
   "metadata": {},
   "source": [
    "Reconstruct a slice of the filtered data"
   ]
  },
  {
   "cell_type": "code",
   "execution_count": 14,
   "metadata": {},
   "outputs": [],
   "source": [
    "# get a slice\n",
    "data_slice = filtered_image.get_slice(vertical=vertical_slice)\n",
    "# reconstruct the slice\n",
    "fbp =  FBP(data_slice, ig)\n",
    "recon_filter = fbp.run(verbose=0)"
   ]
  },
  {
   "cell_type": "markdown",
   "metadata": {},
   "source": [
    "Compare the reconstructions using `show2D()`"
   ]
  },
  {
   "cell_type": "code",
   "execution_count": null,
   "metadata": {},
   "outputs": [],
   "source": [
    "show2D([recon, recon_thickness, recon_attenuation, recon_filter],\n",
    "        title=['Original image', 'Phase retrieval - thickness', 'Phase retrieval - scaled by mu', \n",
    "               'Phase retrieval - full_retrieval=False'])"
   ]
  },
  {
   "cell_type": "markdown",
   "metadata": {},
   "source": [
    "Zoom in on the reconstructions"
   ]
  },
  {
   "cell_type": "code",
   "execution_count": null,
   "metadata": {},
   "outputs": [],
   "source": [
    "x_range = slice(50,90)\n",
    "y_range = slice(50,90)\n",
    "\n",
    "show2D([recon.array[x_range,y_range], recon_thickness.array[x_range,y_range], recon_attenuation.array[x_range,y_range], recon_filter.array[x_range,y_range]],\n",
    "title=['Original image', 'Phase retrieval - thickness', 'Phase retrieval - scaled by mu', 'Phase retrieval - full_retrieval=False'], \n",
    "axis_labels = ('horizontal_x', 'horizontal_y'))"
   ]
  },
  {
   "cell_type": "markdown",
   "metadata": {},
   "source": [
    "Compare a cross-section through the reconstruction"
   ]
  },
  {
   "cell_type": "code",
   "execution_count": null,
   "metadata": {},
   "outputs": [],
   "source": [
    "fig, axs = plt.subplots(1,2, figsize=(12,5))\n",
    "ax = axs[0]\n",
    "\n",
    "y_slice = 30\n",
    "x_range = range(65,90)\n",
    "ax.plot(x_range, recon.array[y_slice,x_range])\n",
    "ax.plot(x_range, recon_attenuation.array[y_slice,x_range])\n",
    "ax.plot(x_range, recon_filter.array[y_slice,x_range])\n",
    "\n",
    "ax.set_xlabel('Horizontal x')\n",
    "ax.set_ylabel('Intensity')\n",
    "ax.set_title('Line Profile at horizontal_y=' + str(y_slice) + ', vertical slice=' + str(vertical_slice))\n",
    "\n",
    "ax = axs[1]\n",
    "x_slice = 87\n",
    "y_range = range(65,90)\n",
    "ax.plot(y_range, recon.array[y_range,x_slice])\n",
    "ax.plot(y_range, recon_attenuation.array[y_range,x_slice])\n",
    "ax.plot(y_range, recon_filter.array[y_range,x_slice])\n",
    "\n",
    "ax.set_xlabel('Horizontal y')\n",
    "ax.set_ylabel('Intensity')\n",
    "ax.set_title('Line Profile at horizontal_x=' + str(x_slice) + ', vertical slice=' + str(vertical_slice))\n",
    "ax.legend(['Original', 'Phase retrieved - scaled by mu', 'Phase retrieved - full_retrieval=False'])"
   ]
  },
  {
   "cell_type": "markdown",
   "metadata": {},
   "source": [
    "We see that both methods blur the result in comparison to the original reconstruction.\n"
   ]
  },
  {
   "cell_type": "markdown",
   "metadata": {},
   "source": [
    "We can approximate the signal to noise of each reconstruction as the mean divided by the standard deviation"
   ]
  },
  {
   "cell_type": "code",
   "execution_count": null,
   "metadata": {},
   "outputs": [],
   "source": [
    "print(\"Original reconstruction SNR = {:.3f}\".format(np.abs(recon.mean()/recon.array.std())))\n",
    "print(\"Phase retrieved reconstruction SNR = {:.3f}\".format(np.abs(recon_attenuation.mean()/recon_attenuation.array.std())))\n",
    "print(\"Phase retrieved (full_retrieval=False) reconstruction SNR = {:.3f}\".format(np.abs(recon_filter.mean()/recon_filter.array.std())))"
   ]
  },
  {
   "cell_type": "markdown",
   "metadata": {},
   "source": [
    "In all cases, the phase retrieval improves the SNR. The filter performs very similarly to the full phase retrieval in this case but should not be used where the aim is to obtain quantitative information from the resonstruction."
   ]
  },
  {
   "cell_type": "markdown",
   "metadata": {},
   "source": [
    "##### Generalised Paganin method"
   ]
  },
  {
   "cell_type": "markdown",
   "metadata": {},
   "source": [
    "The generalised Paganin method is implemented in CIL following the description in [[3](https://iopscience.iop.org/article/10.1088/2040-8986/abbab9)]. \\\n",
    "When features in the image are close to the Nyquist frequency of the system, a more generalised form of the Pagnin filter can be used which preserves these high frequency features while still boosting SNR. This may have a similar effect to applying an unsharp mask after the normal Paganin phase retrieval. \n",
    "\n",
    "$$\n",
    "T(x,y) =  -\\frac{1}{\\mu}\\ln\\left (\\mathcal{F}^{-1}\\left (\\frac{\n",
    "        \\mathcal{F}\\left (I_{norm}(x, y,z = \\Delta) \\right )}{1 - \\frac{2\n",
    "        \\alpha}{W^2}\\left ( \\cos(Wk_x) + \\cos(Wk_y) -2 \\right )}  \\right )\n",
    "        \\right )\n",
    "$$\n",
    "\n",
    "[3] D. Paganin et al. \"Boosting spatial resolution by incorporating periodic boundary conditions into single-distance hard-x-ray phase retrieval\" Journal of Optics 22 (2002): 115607. https://doi.org/10.1088/2040-8986/abbab9"
   ]
  },
  {
   "cell_type": "markdown",
   "metadata": {},
   "source": [
    "Run phase retrieval on the data using the generalised Paganin method to get thickness and attenuation"
   ]
  },
  {
   "cell_type": "code",
   "execution_count": null,
   "metadata": {},
   "outputs": [],
   "source": [
    "processor = PaganinProcessor(delta=delta, beta=beta, energy=energy, filter_type='generalised_paganin_method')\n",
    "processor.set_input(data)\n",
    "thickness_GPM = processor.get_output(override_geometry={'propagation_distance':10})\n",
    "attenuation_GPM = thickness_GPM*processor.mu # multiply by mu to get recon_attenuation with the same scaling as the original image"
   ]
  },
  {
   "cell_type": "markdown",
   "metadata": {},
   "source": [
    "Reconstruct slices of the data"
   ]
  },
  {
   "cell_type": "code",
   "execution_count": 20,
   "metadata": {},
   "outputs": [],
   "source": [
    "# get a slice\n",
    "data_slice = thickness_GPM.get_slice(vertical=vertical_slice)\n",
    "# reconstruct the slice\n",
    "fbp =  FBP(data_slice, ig)\n",
    "recon_thickness_GPM = fbp.run(verbose=0)\n",
    "\n",
    "# get a slice\n",
    "data_slice = attenuation_GPM.get_slice(vertical=vertical_slice)\n",
    "# reconstruct the slice\n",
    "fbp =  FBP(data_slice, ig)\n",
    "recon_attenuation_GPM = fbp.run(verbose=0)"
   ]
  },
  {
   "cell_type": "markdown",
   "metadata": {},
   "source": [
    "Zoom in on a region with high frequency features, i.e. where some of the sphere are almost touching"
   ]
  },
  {
   "cell_type": "code",
   "execution_count": null,
   "metadata": {},
   "outputs": [],
   "source": [
    "show2D([recon_attenuation.array[81:95,70:83],recon_attenuation_GPM.array[81:95,70:83]],\n",
    "       title=['Paganin method', 'Generalised Paganin method'], fix_range=(0.000, 0.0005))"
   ]
  },
  {
   "cell_type": "markdown",
   "metadata": {},
   "source": [
    "Plot a difference map between the PM and GPM"
   ]
  },
  {
   "cell_type": "code",
   "execution_count": null,
   "metadata": {},
   "outputs": [],
   "source": [
    "show2D([recon_attenuation.array[81:95,70:83]-recon_attenuation_GPM.array[81:95,70:83]], cmap='seismic', fix_range=(-4e-5, 4e-5))"
   ]
  },
  {
   "cell_type": "markdown",
   "metadata": {},
   "source": [
    "Some high frequency features are better maintained by the GPM compared to the PM, which might allow easier segmentation. In this example the difference is very small. "
   ]
  },
  {
   "cell_type": "markdown",
   "metadata": {},
   "source": [
    "Check the SNR"
   ]
  },
  {
   "cell_type": "code",
   "execution_count": null,
   "metadata": {},
   "outputs": [],
   "source": [
    "print(\"Original reconstruction SNR = {:.3f}\".format(np.abs(recon.mean()/recon.array.std())))\n",
    "print(\"Phase retrieved reconstruction SNR = {:.3f}\".format(np.abs(recon_attenuation.mean()/recon_attenuation.array.std())))\n",
    "print(\"Phase retrieved with GPM reconstruction SNR  =  {:.3f}\".format(np.abs(recon_attenuation_GPM.mean()/recon_attenuation_GPM.array.std())))"
   ]
  },
  {
   "cell_type": "markdown",
   "metadata": {},
   "source": [
    "The GPM has slightly improved resolution of the sample features while maintaining the SNR boost"
   ]
  },
  {
   "cell_type": "markdown",
   "metadata": {},
   "source": [
    "#### TomoBank example"
   ]
  },
  {
   "cell_type": "markdown",
   "metadata": {},
   "source": [
    "This example demonstrates phase retrieval on a real dataset: tomo_00064 and tomo_00065 from TomoBank [[4](http://www.doi.org/10.1088/1361-6501/aa9c19)] multi-distance dataset [[5](https://tomobank.readthedocs.io/en/latest/source/data/docs.data.phasecontrast.html#multi-distance)]\n",
    "\n",
    "[4] De Carlo, Francesco, et al. “TomoBank: a tomographic data repository for computational x-ray science.” Measurement Science and Technology 29.3 (2018): 034004. http://www.doi.org/10.1088/1361-6501/aa9c19\n",
    "\n",
    "[5] https://tomobank.readthedocs.io/en/latest/source/data/docs.data.phasecontrast.html#multi-distance"
   ]
  },
  {
   "cell_type": "markdown",
   "metadata": {},
   "source": [
    "The relevant datasets can be retrieved using:\n",
    "\n",
    "`wget https://g-a0400.fd635.8443.data.globus.org/tomo_00064_to_00067/tomo_00064.h5`\n",
    "\n",
    "and `wget https://g-a0400.fd635.8443.data.globus.org/tomo_00064_to_00067/tomo_00065.h5`"
   ]
  },
  {
   "cell_type": "markdown",
   "metadata": {},
   "source": [
    "Load the data, dark and flat fields and angle information from the file using `HDF5_utilities`, (if you're running this locally you will need to change the filename to the path where you downloaded it)"
   ]
  },
  {
   "cell_type": "code",
   "execution_count": 24,
   "metadata": {},
   "outputs": [],
   "source": [
    "filename = '/mnt/materials/SIRF/Fully3D/CIL/Phase/tomo_00065.h5' \n",
    "data = HDF5_utilities.read(filename=filename, dset_path='/exchange/data')\n",
    "data_dark = HDF5_utilities.read(filename, dset_path='/exchange/data_dark')\n",
    "data_flat = HDF5_utilities.read(filename, dset_path='/exchange/data_white')\n",
    "angles = HDF5_utilities.read(filename=filename, dset_path='/exchange/theta')"
   ]
  },
  {
   "cell_type": "markdown",
   "metadata": {},
   "source": [
    "Construct a CIL AcquisitionData object, first getting the experiment parameters from [[5](https://tomobank.readthedocs.io/en/latest/source/data/docs.data.phasecontrast.html#multi-distance)]\n",
    "\n",
    "[5] https://tomobank.readthedocs.io/en/latest/source/data/docs.data.phasecontrast.html#multi-distance"
   ]
  },
  {
   "cell_type": "code",
   "execution_count": 25,
   "metadata": {},
   "outputs": [],
   "source": [
    "pixel_size = 0.0014 #mm\n",
    "propagation_distance = 58 #mm\n",
    "units = 'mm'"
   ]
  },
  {
   "cell_type": "markdown",
   "metadata": {},
   "source": [
    "Create an AcquisitionGeometry with the `.create_Parallel3D` method using these parameters and the shape of the data, then create the `AcquisitionData` object"
   ]
  },
  {
   "cell_type": "code",
   "execution_count": 26,
   "metadata": {},
   "outputs": [],
   "source": [
    "ag = AcquisitionGeometry.create_Parallel3D(detector_position=[0, propagation_distance, 0], units=units)\\\n",
    "        .set_panel([np.shape(data)[2],np.shape(data)[1]], pixel_size=pixel_size)\\\n",
    "        .set_angles(angles)\n",
    "data = AcquisitionData(data, deep_copy=False, geometry = ag)"
   ]
  },
  {
   "cell_type": "markdown",
   "metadata": {},
   "source": [
    "Normalise the data"
   ]
  },
  {
   "cell_type": "code",
   "execution_count": 27,
   "metadata": {},
   "outputs": [],
   "source": [
    "data = Normaliser(dark_field=data_dark.mean(axis=0), flat_field=data_flat.mean(axis=0))(data)"
   ]
  },
  {
   "cell_type": "markdown",
   "metadata": {},
   "source": [
    "Get a slice of the data"
   ]
  },
  {
   "cell_type": "code",
   "execution_count": 28,
   "metadata": {},
   "outputs": [],
   "source": [
    "vertical_slice = 325\n",
    "data_slice = data.get_slice(vertical=vertical_slice)"
   ]
  },
  {
   "cell_type": "markdown",
   "metadata": {},
   "source": [
    "Convert to absorption"
   ]
  },
  {
   "cell_type": "code",
   "execution_count": 29,
   "metadata": {},
   "outputs": [],
   "source": [
    "data_slice = TransmissionAbsorptionConverter()(data_slice)"
   ]
  },
  {
   "cell_type": "markdown",
   "metadata": {},
   "source": [
    "Pad the data to remove the ring caused by parts of the sample moving out of the field of view during the scan"
   ]
  },
  {
   "cell_type": "code",
   "execution_count": 30,
   "metadata": {},
   "outputs": [],
   "source": [
    "# Pad the data\n",
    "ig = data_slice.geometry.get_ImageGeometry()\n",
    "padsize = 500\n",
    "data_slice = Padder.linear_ramp(pad_width={'horizontal': padsize}, end_values=0)(data_slice)"
   ]
  },
  {
   "cell_type": "markdown",
   "metadata": {},
   "source": [
    "Reconstruct the dataset and use `show2D()` to view it"
   ]
  },
  {
   "cell_type": "code",
   "execution_count": null,
   "metadata": {},
   "outputs": [],
   "source": [
    "fbp =  FBP(data_slice, ig)\n",
    "recon = fbp.run(verbose=0)\n",
    "show2D(recon)"
   ]
  },
  {
   "cell_type": "markdown",
   "metadata": {},
   "source": [
    "There are significant edge enhancements in this dataset. Take a closer look by plotting a cross-section through the reconstruction"
   ]
  },
  {
   "cell_type": "code",
   "execution_count": null,
   "metadata": {},
   "outputs": [],
   "source": [
    "plt.plot(recon.array[:,175])"
   ]
  },
  {
   "cell_type": "markdown",
   "metadata": {},
   "source": [
    "We can see bright fringes at the sample edges which are due to phase contrast"
   ]
  },
  {
   "cell_type": "markdown",
   "metadata": {},
   "source": [
    "Next we try a phase retrieval on the raw data to remove the fringes\n",
    "\n",
    "Get the experiment parameters from [[5](https://tomobank.readthedocs.io/en/latest/source/data/docs.data.phasecontrast.html#multi-distance)] and an approximate $\\delta$ and $\\beta$ based on the density of steel [[2](https://henke.lbl.gov/optical_constants/getdb2.html)]\n",
    "\n",
    "[2] Lawrence Berkeley National Laboratory, Centre for X-Ray Optics - X-Ray Interactions With Matter: Refractive Indices https://henke.lbl.gov/optical_constants/getdb2.html\n",
    "\n",
    "[5] https://tomobank.readthedocs.io/en/latest/source/data/docs.data.phasecontrast.html#multi-distance "
   ]
  },
  {
   "cell_type": "code",
   "execution_count": 33,
   "metadata": {},
   "outputs": [],
   "source": [
    "delta = 1e-6\n",
    "beta = 1e-9\n",
    "energy = 55000"
   ]
  },
  {
   "cell_type": "markdown",
   "metadata": {},
   "source": [
    "Run the standard Paganin method"
   ]
  },
  {
   "cell_type": "code",
   "execution_count": null,
   "metadata": {},
   "outputs": [],
   "source": [
    "processor = PaganinProcessor(delta=delta, beta=beta, energy=energy)\n",
    "processor.set_input(data)\n",
    "thickness = processor.get_output()\n",
    "data_phase = thickness*processor.mu # use mu to get attenuation with the same scaling as the original image"
   ]
  },
  {
   "cell_type": "markdown",
   "metadata": {},
   "source": [
    "Run phase retrieval using the generalised Paganin method on the raw data"
   ]
  },
  {
   "cell_type": "code",
   "execution_count": null,
   "metadata": {},
   "outputs": [],
   "source": [
    "processor = PaganinProcessor(delta=delta, beta=beta, energy=energy, \n",
    "                             filter_type='generalised_paganin_method')\n",
    "processor.set_input(data)\n",
    "thickness = processor.get_output()\n",
    "data_phase_generalised = thickness*processor.mu # use mu to get attenuation with the same scaling as the original image"
   ]
  },
  {
   "cell_type": "markdown",
   "metadata": {},
   "source": [
    "Get a slice of each data set"
   ]
  },
  {
   "cell_type": "code",
   "execution_count": 36,
   "metadata": {},
   "outputs": [],
   "source": [
    "data_phase = data_phase.get_slice(vertical=vertical_slice)\n",
    "data_phase_generalised = data_phase_generalised.get_slice(vertical=vertical_slice)"
   ]
  },
  {
   "cell_type": "markdown",
   "metadata": {},
   "source": [
    "Pad the data"
   ]
  },
  {
   "cell_type": "code",
   "execution_count": 37,
   "metadata": {},
   "outputs": [],
   "source": [
    "# Pad the data\n",
    "data_phase = Padder.linear_ramp(pad_width={'horizontal': padsize}, end_values=0)(data_phase)\n",
    "data_phase_generalised = Padder.linear_ramp(pad_width={'horizontal': padsize}, end_values=0)(data_phase_generalised)"
   ]
  },
  {
   "cell_type": "markdown",
   "metadata": {},
   "source": [
    "Reconstruct"
   ]
  },
  {
   "cell_type": "code",
   "execution_count": 38,
   "metadata": {},
   "outputs": [],
   "source": [
    "# Reconstruct\n",
    "fbp =  FBP(data_phase, ig)\n",
    "recon_phase = fbp.run(verbose=0)\n",
    "\n",
    "fbp =  FBP(data_phase_generalised, ig)\n",
    "recon_phase_g = fbp.run(verbose=0)"
   ]
  },
  {
   "cell_type": "markdown",
   "metadata": {},
   "source": [
    "Compare the reconstructions"
   ]
  },
  {
   "cell_type": "code",
   "execution_count": null,
   "metadata": {},
   "outputs": [],
   "source": [
    "show2D([recon, recon_phase, recon_phase_g], ['Original','Paganin Method', 'Generalised Paganin Method'], num_cols=3, slice_list={'horizontal_y':175})"
   ]
  },
  {
   "cell_type": "markdown",
   "metadata": {},
   "source": [
    "Plot a difference map between the Paganin Method and Generalised Paganin Method reconstructions"
   ]
  },
  {
   "cell_type": "code",
   "execution_count": null,
   "metadata": {},
   "outputs": [],
   "source": [
    "show2D(recon_phase.array-recon_phase_g.array, title='Paganin Method - Generalised Paganin Method', cmap='seismic', fix_range=(-0.0015, 0.0015), slice_list={'horizontal_y':175})"
   ]
  },
  {
   "cell_type": "markdown",
   "metadata": {},
   "source": [
    "We see some of the high resolution details (e.g. the edges) are preserved in the GPM"
   ]
  },
  {
   "cell_type": "markdown",
   "metadata": {},
   "source": [
    "Compare SNR"
   ]
  },
  {
   "cell_type": "code",
   "execution_count": null,
   "metadata": {},
   "outputs": [],
   "source": [
    "print(\"Original reconstruction SNR = {:.3f}\".format(np.abs(recon.mean()/recon.array.std())))\n",
    "print(\"Phase retrieved reconstruction SNR = {:.3f}\".format(np.abs(recon_phase.mean()/recon_phase.array.std())))\n",
    "print(\"Phase retrieved with GPM reconstruction SNR = {:.3f}\".format(np.abs(recon_phase_g.mean()/recon_phase_g.array.std())))"
   ]
  },
  {
   "cell_type": "markdown",
   "metadata": {},
   "source": [
    "Plot cross-sections through the reconstructions to check how well the phase retrieval removes the fringes"
   ]
  },
  {
   "cell_type": "code",
   "execution_count": null,
   "metadata": {},
   "outputs": [],
   "source": [
    "plt.plot(recon.array[:,175])\n",
    "plt.plot(recon_phase.array[:,175])\n",
    "plt.plot(recon_phase_g.array[:,175])\n",
    "plt.legend(['Original', 'Paganin Method', 'Generalised Paganin Method'])"
   ]
  },
  {
   "cell_type": "markdown",
   "metadata": {},
   "source": [
    "In both Paganin methods the fringes are reduced "
   ]
  },
  {
   "cell_type": "markdown",
   "metadata": {},
   "source": [
    "We can also compare the phase retrieval with the same sample which was imaged with a much shorter propagation distance (8mm) in file tomo_00064.h5"
   ]
  },
  {
   "cell_type": "code",
   "execution_count": 43,
   "metadata": {},
   "outputs": [],
   "source": [
    "filename = '/mnt/materials/SIRF/Fully3D/CIL/Phase/tomo_00064.h5' \n",
    "data_8mm = HDF5_utilities.read(filename=filename, dset_path='/exchange/data')\n",
    "data_dark = HDF5_utilities.read(filename, dset_path='/exchange/data_dark')\n",
    "data_flat = HDF5_utilities.read(filename, dset_path='/exchange/data_white')"
   ]
  },
  {
   "cell_type": "markdown",
   "metadata": {},
   "source": [
    "Create the `AcquisitionData` object and repeat the same steps as above"
   ]
  },
  {
   "cell_type": "code",
   "execution_count": 44,
   "metadata": {},
   "outputs": [],
   "source": [
    "pixel_size = 0.0014 #mm\n",
    "propagation_distance = 8 #mm\n",
    "units = 'mm'\n",
    "angles = HDF5_utilities.read(filename=filename, dset_path='/exchange/theta')\n",
    "ag = AcquisitionGeometry.create_Parallel3D(detector_position=[0, propagation_distance, 0], units=units).set_panel([np.shape(data)[2],np.shape(data)[1]], pixel_size=pixel_size).set_angles(angles)\n",
    "data_8mm = AcquisitionData(data_8mm, deep_copy=False, geometry = ag)\n",
    "data_8mm = Normaliser(dark_field=data_dark.mean(axis=0), flat_field=data_flat.mean(axis=0))(data_8mm)"
   ]
  },
  {
   "cell_type": "markdown",
   "metadata": {},
   "source": [
    "Run the phase retrieval with the same parameters as above, but using the 8mm propagation distance"
   ]
  },
  {
   "cell_type": "code",
   "execution_count": null,
   "metadata": {},
   "outputs": [],
   "source": [
    "data_8mm = PaganinProcessor(delta=delta, beta=beta, energy=energy)(data_8mm)"
   ]
  },
  {
   "cell_type": "markdown",
   "metadata": {},
   "source": [
    "Get a slice, pad the data and reconstruct it"
   ]
  },
  {
   "cell_type": "code",
   "execution_count": 46,
   "metadata": {},
   "outputs": [],
   "source": [
    "# Get a slice\n",
    "data_slice_8mm = data_8mm.get_slice(vertical=vertical_slice)\n",
    "# Pad the data\n",
    "ig = data_slice_8mm.geometry.get_ImageGeometry()\n",
    "padsize = 500\n",
    "data_slice_8mm = Padder.linear_ramp(pad_width={'horizontal': padsize}, end_values=0)(data_slice_8mm)\n",
    "# Reconstruct\n",
    "fbp =  FBP(data_slice_8mm, ig)\n",
    "recon_8mm = fbp.run(verbose=0)"
   ]
  },
  {
   "cell_type": "code",
   "execution_count": null,
   "metadata": {},
   "outputs": [],
   "source": [
    "show2D([recon, recon_phase, recon_8mm], ['58mm propagation', '58mm propagation - PM', '8mm propagation'], num_cols=3, slice_list={'horizontal_y':175})"
   ]
  },
  {
   "cell_type": "markdown",
   "metadata": {},
   "source": [
    "The phase retrieval acts as an effective filter at both propagation distances but the phase retrieval on the 58mm propagation data doesn't return the shape of the 8mm propagation data. One limitation of the Paganin method is that it is only valid in the Fresnel limit, where there is just one refaction fringe.\n",
    "\n",
    "We can check if we are in the Fresnel limit by calculating if the Fresnel Number is much greater than 1\n",
    "$$\n",
    "N_F = \\frac{W^2}{\\lambda\\Delta} >> 1\n",
    "$$\n",
    "$W$ is the length scale of the smallest features in the sample which here we assume is the same as the pixel size"
   ]
  },
  {
   "cell_type": "code",
   "execution_count": null,
   "metadata": {},
   "outputs": [],
   "source": [
    "wavelength = (constants.h*constants.speed_of_light)/(energy*constants.electron_volt)\n",
    "NF = (data.geometry.pixel_size_h*1e-3)**2/(wavelength*58* 1e-3)\n",
    "print(r\"For propagation = 58mm, NF = {:.3f}\".format(NF))\n",
    "NF = (data.geometry.pixel_size_h*1e-3)**2/(wavelength*8* 1e-3)\n",
    "print(r\"For propagation = 8mm, NF = {:.3f}\".format(NF))"
   ]
  },
  {
   "cell_type": "markdown",
   "metadata": {},
   "source": [
    "A Fresnel number just greater than 1 suggests different phase retrieval methods might be required to fully account for the phase effect in this dataset."
   ]
  },
  {
   "cell_type": "markdown",
   "metadata": {},
   "source": [
    "#### References\n",
    "\n",
    "[1] D. Paganin et al. \"Simultaneous phase and amplitude extraction from a single defocused image of a homogeneous object.\" Journal of Microscopy, 206 (2002): 33-40.  https://doi.org/10.1046/j.1365-2818.2002.01010.x \n",
    "\n",
    "[2] Lawrence Berkeley National Laboratory, Centre for X-Ray Optics - X-Ray Interactions With Matter: Refractive Indices https://henke.lbl.gov/optical_constants/getdb2.html\n",
    "\n",
    "[3] D. Paganin et al. \"Boosting spatial resolution by incorporating periodic boundary conditions into single-distance hard-x-ray phase retrieval\" Journal of Optics 22 (2002): 115607. https://doi.org/10.1088/2040-8986/abbab9\n",
    "\n",
    "[4] De Carlo, Francesco, et al. “TomoBank: a tomographic data repository for computational x-ray science.” Measurement Science and Technology 29.3 (2018): 034004. http://www.doi.org/10.1088/1361-6501/aa9c19\n",
    "\n",
    "[5] https://tomobank.readthedocs.io/en/latest/source/data/docs.data.phasecontrast.html#multi-distance"
   ]
  }
 ],
 "metadata": {
  "kernelspec": {
   "display_name": "cil_phase_demo",
   "language": "python",
   "name": "python3"
  },
  "language_info": {
   "codemirror_mode": {
    "name": "ipython",
    "version": 3
   },
   "file_extension": ".py",
   "mimetype": "text/x-python",
   "name": "python",
   "nbconvert_exporter": "python",
   "pygments_lexer": "ipython3",
   "version": "3.12.7"
  }
 },
 "nbformat": 4,
 "nbformat_minor": 2
}
