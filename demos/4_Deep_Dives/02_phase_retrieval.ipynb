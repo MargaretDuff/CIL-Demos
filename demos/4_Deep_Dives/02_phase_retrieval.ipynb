{
 "cells": [
  {
   "cell_type": "code",
   "execution_count": 1,
   "metadata": {},
   "outputs": [],
   "source": [
    "# -*- coding: utf-8 -*-\n",
    "#  Copyright 2024 -  United Kingdom Research and Innovation\n",
    "#  Copyright 2024 -  The University of Manchester\n",
    "#\n",
    "#  Licensed under the Apache License, Version 2.0 (the \"License\");\n",
    "#  you may not use this file except in compliance with the License.\n",
    "#  You may obtain a copy of the License at\n",
    "#\n",
    "#      http://www.apache.org/licenses/LICENSE-2.0\n",
    "#\n",
    "#  Unless required by applicable law or agreed to in writing, software\n",
    "#  distributed under the License is distributed on an \"AS IS\" BASIS,\n",
    "#  WITHOUT WARRANTIES OR CONDITIONS OF ANY KIND, either express or implied.\n",
    "#  See the License for the specific language governing permissions and\n",
    "#  limitations under the License.\n",
    "#\n",
    "#   Authored by:    Hannah Robarts (STFC - UKRI)\n",
    "#                   Laura Murgatroyd (STFC - UKRI)"
   ]
  },
  {
   "cell_type": "markdown",
   "metadata": {},
   "source": [
    "# Paganin Processor \n",
    "This deep-dive contains some examples of using the `PaganinProcessor` phase retrieval methods in CIL."
   ]
  },
  {
   "cell_type": "markdown",
   "metadata": {},
   "source": [
    "#### Phase contrast imaging\n",
    "Phase contrast imaging is commonly used in tomography as a tool to exploit the different contrast provided by absorption and phase.\n",
    "\n",
    "In absorption contrast imaging, variation in beam intensity $I$ is given by,\n",
    "$$\n",
    "I  = I_0\\exp(-\\mu T),\n",
    "$$\n",
    "where $T$ is the material thickness and $\\mu$ is the material linear attenuation coefficient. We can also express $\\mu$ in terms of the **complex** part of the material refractive index $\\beta$ and the wavevector of the x-rays (or other probe)  $k$,\n",
    "\n",
    "$$\n",
    "\\mu = 2k\\beta\n",
    "$$\n",
    "\n",
    "Variation in material phase $\\phi$ is given by,\n",
    "$$\n",
    "\\phi = -k\\delta T,\n",
    "$$\n",
    "where $\\delta$ is the **real** part of the material refractive index.\n",
    "\n",
    "Phase contrast imaging is commonly used in samples which give poor absorption contrast, like light element materials, to resolve details which might not otherwise be resolved with absorption contrast alone.\n",
    "\n",
    "#### Propagation-based phase contrast\n",
    "There are a number of hardware-based methods to measure phase but the simplest methods to enable phase contrast imaging are propagation-based methods. These rely on the fact that a phase shift caused by the sample results in the x-rays (or other probe) propagating differently, or refracting, which is measured as a variation in intensity at the detector after some propagation distance $\\Delta$. This causes bright fringes around edges in the sample, known as edge enhancement. There are a number of specialist lab-based CT systems that are designed to exploit propagation based phase contrast and it's also common to see phase effects in synchrotron systems with long propagation distances. These can be really helpful for highlighting features in a sample, for example for segmentation.\n",
    "\n",
    "#### Phase retrieval\n",
    "However, edge-enhancement changes the intensity profile in the projections by combining the absorption and phase information. So in certain circumstances - for example where quantitative measurement of sample features is required - phase retrieval methods are used to separate these effects. This notebook uses the commonly used Paganin phase retrieval method which accounts for the change in intensity due to phase effects to retrieve the sample thickness from phase contrast images [[1](https://onlinelibrary.wiley.com/doi/10.1046/j.1365-2818.2002.01010.x)]. The form of the phase retrieval additionally acts as a filter on the data, which if used with the correct physical parameters, results in a boost to the signal to noise ratio (SNR) without losing spatial resolution. Paganin phase retrieval is therefore also commonly used as a filter to boost SNR in many different contexts.\n",
    "\n",
    "[1] D. Paganin et al. \"Simultaneous phase and amplitude extraction from a single defocused image of a homogeneous object.\" Journal of Microscopy, 206 (2002): 33-40.  [DOI:10.1046/j.1365-2818.2002.01010.x](https://doi.org/10.1046/j.1365-2818.2002.01010.x)"
   ]
  },
  {
   "cell_type": "markdown",
   "metadata": {},
   "source": [
    "This notebook requires CIL v24.1.0 or greater, check the version below"
   ]
  },
  {
   "cell_type": "code",
   "execution_count": null,
   "metadata": {},
   "outputs": [],
   "source": [
    "import cil\n",
    "print(cil.__version__)"
   ]
  },
  {
   "cell_type": "markdown",
   "metadata": {},
   "source": [
    "Load some dependencies"
   ]
  },
  {
   "cell_type": "code",
   "execution_count": null,
   "metadata": {},
   "outputs": [],
   "source": [
    "from cil.processors import PaganinProcessor, TransmissionAbsorptionConverter\n",
    "from cil.utilities.display import show2D, show_geometry\n",
    "from cil.recon import FBP\n",
    "import numpy as np\n",
    "import matplotlib.pyplot as plt \n",
    "from cil.io import NEXUSDataReader"
   ]
  },
  {
   "cell_type": "markdown",
   "metadata": {},
   "source": [
    "#### TomoBank example"
   ]
  },
  {
   "cell_type": "markdown",
   "metadata": {},
   "source": [
    "This example demonstrates phase retrieval on a real dataset: tomo_00068 from the TomoBank [[2](http://www.doi.org/10.1088/1361-6501/aa9c19)] wet sample dataset [[3](https://tomobank.readthedocs.io/en/latest/source/data/docs.data.phasecontrast.html#wet-sample)]. The data were collected at the SYRMEP beamline of the Elettra synchotron on a bone tissue composite sample, a description of the experiment is given in [[4](https://link.springer.com/chapter/10.1007/978-3-319-19387-8_70)].\n",
    "\n",
    "A modified version of the TomoBank dataset can be retrieved using the command below. We have binned and cropped the data to make it more manageable, then normalised the data and applied a centre of rotation correction:\n",
    "\n",
    "`wget https://tomography.stfc.ac.uk/notebooks/phase/tomo_000068_binned.nxs`\n",
    "\n",
    "[2] F. De Carlo et al. “TomoBank: a tomographic data repository for computational x-ray science.” Measurement Science and Technology 29.3 (2018): 034004. [DOI:10.1088/1361-6501/aa9c19](http://www.doi.org/10.1088/1361-6501/aa9c19)\n",
    "\n",
    "[3] https://tomobank.readthedocs.io/en/latest/source/data/docs.data.phasecontrast.html#wet-sample\n",
    "\n",
    "[4] F. Brun et al. \"A synchrotron radiation microtomography study of wettability and swelling of nanocomposite Alginate/Hydroxyapatite scaffolds for bone tissue engineering\"  World Congress on Medical Physics and Biomedical Engineering, June 7-12, 2015, Toronto, Canada (pp.288-291) [DOI:10.1007/978-3-319-19387-8_70 ](http://dx.doi.org/10.1007/978-3-319-19387-8_70)"
   ]
  },
  {
   "cell_type": "markdown",
   "metadata": {},
   "source": [
    "Load the data using `NEXUSDataReader`, (if you're running this locally you will need to change the filename to the path where you downloaded it)"
   ]
  },
  {
   "cell_type": "code",
   "execution_count": null,
   "metadata": {},
   "outputs": [],
   "source": [
    "filename = '/mnt/materials/SIRF/Fully3D/CIL/Phase/tomo_000068_binned.nxs' \n",
    "data = NEXUSDataReader(filename).read()"
   ]
  },
  {
   "cell_type": "markdown",
   "metadata": {},
   "source": [
    "Take a look at the dataset using `show2D`"
   ]
  },
  {
   "cell_type": "code",
   "execution_count": null,
   "metadata": {},
   "outputs": [],
   "source": [
    "show2D(data)"
   ]
  },
  {
   "cell_type": "markdown",
   "metadata": {},
   "source": [
    "Print the dataset geometry parameters and plot the source, sample and detector positions using `show_geometry()`."
   ]
  },
  {
   "cell_type": "code",
   "execution_count": null,
   "metadata": {},
   "outputs": [],
   "source": [
    "print(data.geometry)\n",
    "show_geometry(data.geometry)"
   ]
  },
  {
   "cell_type": "markdown",
   "metadata": {},
   "source": [
    "The propagation distance is an important parameter in propagation-based phase contrast imaging as it determines how far the beam is refracted and therefore the extent of the edge enhancement. In this dataset we can see there is a long propagation between the sample (red) and detector (blue)."
   ]
  },
  {
   "cell_type": "markdown",
   "metadata": {},
   "source": [
    "Get a slice of the data, convert to absorption and reconstruct the dataset using filtered back projection. Then use `show2D()` to view the reconstruction and zoom in on some sample features, in this case air bubbles in the bone composite material."
   ]
  },
  {
   "cell_type": "code",
   "execution_count": null,
   "metadata": {},
   "outputs": [],
   "source": [
    "data_slice = data.get_slice(vertical='centre')\n",
    "data_slice = TransmissionAbsorptionConverter()(data_slice)\n",
    "fbp =  FBP(data_slice)\n",
    "recon = fbp.run(verbose=0)\n",
    "show2D([recon, recon.array[200:300, 350:450]],\n",
    "       axis_labels=recon.dimension_labels)"
   ]
  },
  {
   "cell_type": "markdown",
   "metadata": {},
   "source": [
    "There are some edge enhancements in this dataset, take a closer look by plotting a cross-section through the reconstruction"
   ]
  },
  {
   "cell_type": "code",
   "execution_count": null,
   "metadata": {},
   "outputs": [],
   "source": [
    "plt.plot(recon.array[200:300,400])\n",
    "plt.xlabel('horizontal_x')\n",
    "plt.ylabel('Intensity')"
   ]
  },
  {
   "cell_type": "markdown",
   "metadata": {},
   "source": [
    "Next we run the phase retrieval on the same data with the `PaganinProcessor` which is implemented based on [[1](https://onlinelibrary.wiley.com/doi/10.1046/j.1365-2818.2002.01010.x)]. The processor returns the material retrieved thickness $T$, removing the effect of phase in the image\n",
    "\n",
    "$$\n",
    "T(x,y) = - \\frac{1}{\\mu}\\ln\\left (\\mathcal{F}^{-1}\\left \n",
    "        (\\frac{\\mathcal{F}\\left ( M^2I_{norm}(x, y,z = \\Delta) \\right )}{1 + \n",
    "          \\alpha\\left ( k_x^2 + k_y^2 \\right )}  \\right )\\right )\n",
    "$$\n",
    "\n",
    "where\n",
    "- $\\mu = \\frac{4\\pi\\beta}{\\lambda}$ is the material linear \n",
    "attenuation coefficient where $\\beta$ is the complex part of the \n",
    "material refractive index and $\\lambda=\\frac{hc}{E}$ is the probe \n",
    "wavelength,\n",
    "- $M$ is the magnification at the detector,\n",
    "- $I_{norm}$ is the input image which is expected to be the \n",
    "normalised transmission data, \n",
    "- $\\Delta$ is the propagation distance,\n",
    "- $\\alpha = \\frac{\\Delta\\delta}{\\mu}$ is a parameter determining \n",
    "the strength of the filter to be applied in Fourier space where \n",
    "$\\delta$ is the real part of the deviation of the material \n",
    "refractive index from 1 \n",
    "- $k_x, k_y = \\left ( \\frac{2\\pi p}{N_xW}, \\frac{2\\pi q}{N_yW} \n",
    "\\right )$ where $p$ and $q$ are co-ordinates in a Fourier \n",
    "mesh in the range $-N_x/2$ to $N_x/2$ and $-N_y/2$ to $N_y/2$ for an image with \n",
    "size $N_x, N_y$ and pixel size $W$.\n",
    "- $\\mathcal{F}$ represents the Fourier transform and $\\mathcal{F}^{-1}$ is the inverse Fourier transform\n",
    "\n",
    "We need to set up the `PaganinProcessor` with the physical parameters for this experiment. \n",
    "- We can find the experiment energy in [[2](https://tomobank.readthedocs.io/en/latest/source/data/docs.data.phasecontrast.html#multi-distance)].\n",
    "- We can get refractive indices for real materials at x-ray wavelengths at [[5](https://henke.lbl.gov/optical_constants/getdb2.html)]. We don't know the refractive indices for this sample so we start with a guess and tune this parameter later.\n",
    "- We use the distance parameters that are stored in `data.geometry` these are propagation distance, pixel size and magnification.\n",
    "\n",
    "\n",
    "[1] D. Paganin et al. \"Simultaneous phase and amplitude extraction from a single defocused image of a homogeneous object.\" Journal of Microscopy, 206 (2002): 33-40.  [DOI:10.1046/j.1365-2818.2002.01010.x](https://doi.org/10.1046/j.1365-2818.2002.01010.x)\n",
    "\n",
    "[2] F. De Carlo et al. “TomoBank: a tomographic data repository for computational x-ray science.” Measurement Science and Technology 29.3 (2018): 034004. [DOI:10.1088/1361-6501/aa9c19](http://www.doi.org/10.1088/1361-6501/aa9c19)\n",
    "\n",
    "[5] Lawrence Berkeley National Laboratory, Centre for X-Ray Optics - X-Ray Interactions With Matter: Refractive Indices https://henke.lbl.gov/optical_constants/getdb2.html"
   ]
  },
  {
   "cell_type": "code",
   "execution_count": null,
   "metadata": {},
   "outputs": [],
   "source": [
    "delta = 1\n",
    "beta = 1e-2\n",
    "energy = 14\n",
    "energy_units = 'keV'\n",
    "\n",
    "processor = PaganinProcessor(delta=delta, beta=beta, energy=energy, energy_units=energy_units)\n",
    "processor.set_input(data)\n",
    "try:\n",
    "    thickness = processor.get_output()\n",
    "except Exception as e:\n",
    "    print(e)"
   ]
  },
  {
   "cell_type": "markdown",
   "metadata": {},
   "source": [
    "We get an error because the distance units are not supplied in the geometry. This is a common problem because distance units are not always needed for other processing or reconstruction steps. We should check if all the important experimental information is stored in the geometry."
   ]
  },
  {
   "cell_type": "code",
   "execution_count": null,
   "metadata": {},
   "outputs": [],
   "source": [
    "print(\"Propagation distance = {:.1f} {:s}\".format(data.geometry.dist_center_detector, data.geometry.config.units))\n",
    "print(\"Pixel size = {:.4} {:s}\".format(data.geometry.pixel_size_h, data.geometry.config.units))"
   ]
  },
  {
   "cell_type": "markdown",
   "metadata": {},
   "source": [
    "The distances are correct (note the pixel size is double compared to [[2](https://tomobank.readthedocs.io/en/latest/source/data/docs.data.phasecontrast.html#multi-distance)] because we've binned the data) but the units aren't stored, so we should add them"
   ]
  },
  {
   "cell_type": "code",
   "execution_count": null,
   "metadata": {},
   "outputs": [],
   "source": [
    "data.geometry.config.units = 'mm'"
   ]
  },
  {
   "cell_type": "markdown",
   "metadata": {},
   "source": [
    "Run the processor again, this time also set the processor return units to be the same as the geometry"
   ]
  },
  {
   "cell_type": "code",
   "execution_count": null,
   "metadata": {},
   "outputs": [],
   "source": [
    "processor = PaganinProcessor(delta=delta, beta=beta, energy=energy, energy_units=energy_units, return_units=data.geometry.config.units)\n",
    "processor.set_input(data)\n",
    "thickness = processor.get_output()"
   ]
  },
  {
   "cell_type": "markdown",
   "metadata": {},
   "source": [
    "Get a slice of the phase-retrieved data and reconstruct it, then compare the reconstruction with the one we got from the original data"
   ]
  },
  {
   "cell_type": "code",
   "execution_count": null,
   "metadata": {},
   "outputs": [],
   "source": [
    "data_slice = thickness.get_slice(vertical='centre')\n",
    "fbp =  FBP(data_slice)\n",
    "recon_phase = fbp.run(verbose=0)\n",
    "show2D([recon.array[200:300, 350:450], recon_phase.array[200:300, 350:450]],\n",
    "       title=['Original reconstruction', 'With phase retrieval'],\n",
    "       axis_labels=recon.dimension_labels)"
   ]
  },
  {
   "cell_type": "markdown",
   "metadata": {},
   "source": [
    "We can see the phase retrieval has the effect of blurring the edge of features in the sample which reduces the appearance of the edge. When we compare the cross-section through this reconstruction we should be aware that the Paganin processor returns the material thickness $T$. To get the reconstruction on the same scale as the original data we have to multiply $T$ by the linear attenuation coefficient $\\mu$ which we can get from the `PaganinProcessor` by calling `processor.mu`."
   ]
  },
  {
   "cell_type": "code",
   "execution_count": null,
   "metadata": {},
   "outputs": [],
   "source": [
    "plt.plot(recon.array[200:300,400])\n",
    "plt.plot(recon_phase.array[200:300,400]*processor.mu)\n",
    "plt.xlabel('horizontal_x')\n",
    "plt.ylabel('Intensity')\n",
    "plt.legend(['Original reconstruction','Phase retrieval'])"
   ]
  },
  {
   "cell_type": "markdown",
   "metadata": {},
   "source": [
    "We can also approximate the signal to noise of each reconstruction as the mean divided by the standard deviation, and find the phase retreival results in a boost to the SNR"
   ]
  },
  {
   "cell_type": "code",
   "execution_count": null,
   "metadata": {},
   "outputs": [],
   "source": [
    "print(\"Original reconstruction SNR = {:.3f}\".format(np.abs(np.mean(recon.array)/recon.array.std())))\n",
    "print(\"Phase retrieved reconstruction SNR = {:.3f}\".format(np.abs(np.mean(recon_phase.array*processor.mu)/(recon_phase.array*processor.mu).std())))"
   ]
  },
  {
   "cell_type": "markdown",
   "metadata": {},
   "source": [
    "We notice that the phase retrieval starts to reduce the size of the fringes. If $\\delta$ and $\\beta$ are not precisely known, it's common to tune them until the fringes are fully removed but without removing real features in the sample. We can change $\\delta$ and $\\beta$ directly or vary $\\alpha$, a hyper-parameter containing $\\delta$, $\\beta$ and the propagation distance $\\Delta$, $\\alpha = \\frac{\\Delta\\delta}{\\mu}$. A larger $\\alpha$ has a stronger effect on the data"
   ]
  },
  {
   "cell_type": "markdown",
   "metadata": {},
   "source": [
    "Check the $\\alpha$ value we used so far then try varying alpha and checking the effect on the reconstruction"
   ]
  },
  {
   "cell_type": "code",
   "execution_count": null,
   "metadata": {},
   "outputs": [],
   "source": [
    "print('alpha = {:.2}'.format(processor.alpha))\n",
    "alpha_array = [processor.alpha] # save the alpha value to an array\n",
    "recon_array = [recon_phase.array[200:300,400]*processor.mu] # save the cross-section of the reconstruction to an array"
   ]
  },
  {
   "cell_type": "code",
   "execution_count": null,
   "metadata": {},
   "outputs": [],
   "source": [
    "# try different values for alpha\n",
    "alpha = 0.0005\n",
    "alpha_array.append(alpha)\n",
    "\n",
    "# run the phase retrieval\n",
    "thickness = processor.get_output(override_filter={'alpha':alpha})\n",
    "\n",
    "# run the reconstruction\n",
    "data_slice = thickness.get_slice(vertical='centre')\n",
    "fbp =  FBP(data_slice)\n",
    "recon_phase = fbp.run(verbose=0)\n",
    "\n",
    "# save the cross-section through the reconstruction \n",
    "recon_array.append(recon_phase.array[200:300,400]*processor.mu)"
   ]
  },
  {
   "cell_type": "markdown",
   "metadata": {},
   "source": [
    "Now plot the cross-sections through the reconstructions. \n",
    "You can re-run the above cell with a different $\\alpha$ to add another reconstruction to the array for comparison."
   ]
  },
  {
   "cell_type": "code",
   "execution_count": null,
   "metadata": {},
   "outputs": [],
   "source": [
    "plt.plot(recon.array[200:300,400], label='Original reconstruction')\n",
    "for i in np.arange(len(alpha_array)):\n",
    "    plt.plot(recon_array[i], label=r'$\\alpha$={:.2}'.format(alpha_array[i]))\n",
    "plt.xlabel('horizontal_x')\n",
    "plt.ylabel('Intensity')\n",
    "\n",
    "plt.legend()"
   ]
  },
  {
   "cell_type": "markdown",
   "metadata": {},
   "source": [
    "A physically correct $\\alpha$ value will remove the phase fringes and boost the signal to noise of the reconstruction without losing real features in the sample, it's therefore important to carefully tune $\\alpha$ for the specific sample you're applying it to."
   ]
  },
  {
   "cell_type": "markdown",
   "metadata": {},
   "source": [
    "#### References\n",
    "\n",
    "[1] D. Paganin et al. \"Simultaneous phase and amplitude extraction from a single defocused image of a homogeneous object.\" Journal of Microscopy, 206 (2002): 33-40.  [DOI:10.1046/j.1365-2818.2002.01010.x](https://doi.org/10.1046/j.1365-2818.2002.01010.x)\n",
    "\n",
    "[2] F. De Carlo et al. “TomoBank: a tomographic data repository for computational x-ray science.” Measurement Science and Technology 29.3 (2018): 034004. [DOI:10.1088/1361-6501/aa9c19](http://www.doi.org/10.1088/1361-6501/aa9c19)\n",
    "\n",
    "[3] https://tomobank.readthedocs.io/en/latest/source/data/docs.data.phasecontrast.html#wet-sample\n",
    "\n",
    "[4] F. Brun et al. \"A synchrotron radiation microtomography study of wettability and swelling of nanocomposite Alginate/Hydroxyapatite scaffolds for bone tissue engineering\"  World Congress on Medical Physics and Biomedical Engineering, June 7-12, 2015, Toronto, Canada (pp.288-291) [DOI:10.1007/978-3-319-19387-8_70 ](http://dx.doi.org/10.1007/978-3-319-19387-8_70)\n",
    "\n",
    "[5] Lawrence Berkeley National Laboratory, Centre for X-Ray Optics - X-Ray Interactions With Matter: Refractive Indices https://henke.lbl.gov/optical_constants/getdb2.html"
   ]
  }
 ],
 "metadata": {
  "kernelspec": {
   "display_name": "cil_phase_demo",
   "language": "python",
   "name": "python3"
  },
  "language_info": {
   "codemirror_mode": {
    "name": "ipython",
    "version": 3
   },
   "file_extension": ".py",
   "mimetype": "text/x-python",
   "name": "python",
   "nbconvert_exporter": "python",
   "pygments_lexer": "ipython3",
   "version": "3.12.7"
  }
 },
 "nbformat": 4,
 "nbformat_minor": 2
}
