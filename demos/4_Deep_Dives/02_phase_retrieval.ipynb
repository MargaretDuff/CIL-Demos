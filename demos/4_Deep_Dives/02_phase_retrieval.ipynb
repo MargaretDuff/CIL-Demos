{
 "cells": [
  {
   "cell_type": "code",
   "execution_count": 116,
   "metadata": {},
   "outputs": [],
   "source": [
    "# -*- coding: utf-8 -*-\n",
    "#  Copyright 2024 -  United Kingdom Research and Innovation\n",
    "#  Copyright 2024 -  The University of Manchester\n",
    "#\n",
    "#  Licensed under the Apache License, Version 2.0 (the \"License\");\n",
    "#  you may not use this file except in compliance with the License.\n",
    "#  You may obtain a copy of the License at\n",
    "#\n",
    "#      http://www.apache.org/licenses/LICENSE-2.0\n",
    "#\n",
    "#  Unless required by applicable law or agreed to in writing, software\n",
    "#  distributed under the License is distributed on an \"AS IS\" BASIS,\n",
    "#  WITHOUT WARRANTIES OR CONDITIONS OF ANY KIND, either express or implied.\n",
    "#  See the License for the specific language governing permissions and\n",
    "#  limitations under the License.\n",
    "#\n",
    "#   Authored by:    Hannah Robarts (STFC - UKRI)\n",
    "#                   Laura Murgatroyd (STFC - UKRI)"
   ]
  },
  {
   "cell_type": "markdown",
   "metadata": {},
   "source": [
    "# Paganin Processor \n",
    "This demo contains some examples and comparisons of using the `PaganinProcessor` phase retrieval methods in CIL "
   ]
  },
  {
   "cell_type": "markdown",
   "metadata": {},
   "source": [
    "This notebook requires CIL v24.1.0 or greater, check the version below"
   ]
  },
  {
   "cell_type": "code",
   "execution_count": null,
   "metadata": {},
   "outputs": [],
   "source": [
    "import cil\n",
    "print(cil.__version__)"
   ]
  },
  {
   "cell_type": "markdown",
   "metadata": {},
   "source": [
    "Load some dependencies"
   ]
  },
  {
   "cell_type": "code",
   "execution_count": 118,
   "metadata": {},
   "outputs": [],
   "source": [
    "from cil.utilities import dataexample\n",
    "from cil.processors import PaganinProcessor, TransmissionAbsorptionConverter, Padder, Normaliser\n",
    "from cil.utilities.display import show2D\n",
    "from cil.recon import FDK, FBP\n",
    "from cil.io.utilities import HDF5_utilities\n",
    "from cil.framework import AcquisitionGeometry, AcquisitionData\n",
    "import numpy as np\n",
    "import matplotlib.pyplot as plt \n",
    "from scipy import constants"
   ]
  },
  {
   "cell_type": "markdown",
   "metadata": {},
   "source": [
    "##### Parallel beam data"
   ]
  },
  {
   "cell_type": "markdown",
   "metadata": {},
   "source": [
    "First we test the PaganinProcessor with parallel beam data. In the following cell\n",
    "- Get a test parallel beam dataset \n",
    "- Perform a filtered back projection reconstruction using `FBP()`"
   ]
  },
  {
   "cell_type": "code",
   "execution_count": 119,
   "metadata": {},
   "outputs": [],
   "source": [
    "data = dataexample.SIMULATED_PARALLEL_BEAM_DATA.get()\n",
    "data.reorder(order='tigre')\n",
    "data.geometry.config.units = 'um'\n",
    "data_abs = -1*data.log()\n",
    "# get a slice\n",
    "data_slice = data_abs.get_slice(vertical='centre')\n",
    "ig = data_slice.geometry.get_ImageGeometry()\n",
    "# reconstruct the slice\n",
    "fbp =  FBP(data_slice, ig)\n",
    "recon = fbp.run(verbose=0)"
   ]
  },
  {
   "cell_type": "markdown",
   "metadata": {},
   "source": [
    "Next we repeat the above steps with the PaganinProcessor"
   ]
  },
  {
   "cell_type": "markdown",
   "metadata": {},
   "source": [
    "Choose the parameters to be used in the phase retrieval\n",
    "- Delta and beta are the real and complex part of the material refractive index. These can be found for x-ray wavelengths at  https://henke.lbl.gov/optical_constants/getdb2.html. Here we just use some exaggerated values to demonstrate the effect.\n",
    "- The experiment peak energy in default units eV"
   ]
  },
  {
   "cell_type": "code",
   "execution_count": 120,
   "metadata": {},
   "outputs": [],
   "source": [
    "delta = 1\n",
    "beta = 0.002\n",
    "energy = 40000"
   ]
  },
  {
   "cell_type": "markdown",
   "metadata": {},
   "source": [
    "Run the phase retrieval using the `PaganinProcessor` which is implemented based on [Paganin 2002](https://onlinelibrary.wiley.com/doi/10.1046/j.1365-2818.2002.01010.x). The processor returns the material retrieved thickness, removing the effect of phase in the image\n",
    "\n",
    "$$\n",
    "T(x,y) = - \\frac{1}{\\mu}\\ln\\left (\\mathcal{F}^{-1}\\left \n",
    "        (\\frac{\\mathcal{F}\\left ( M^2I_{norm}(x, y,z = \\Delta) \\right )}{1 + \n",
    "          \\alpha\\left ( k_x^2 + k_y^2 \\right )}  \\right )\\right )\n",
    "$$\n",
    "\n",
    "where\n",
    "- $T$, is the sample thickness,\n",
    "- $\\mu = \\frac{4\\pi\\beta}{\\lambda}$ is the material linear \n",
    "attenuation coefficient where $\\beta$ is the complex part of the \n",
    "material refractive index and $\\lambda=\\frac{hc}{E}$ is the probe \n",
    "wavelength,\n",
    "- $M$ is the magnification at the detector,\n",
    "- $I_{norm}$ is the input image which is expected to be the \n",
    "normalised transmission data, \n",
    "- $\\Delta$ is the propagation distance,\n",
    "- $\\alpha = \\frac{\\Delta\\delta}{\\mu}$ is a parameter determining \n",
    "the strength of the filter to be applied in Fourier space where \n",
    "$\\delta$ is the real part of the deviation of the material \n",
    "refractive index from 1 \n",
    "- $k_x, k_y = \\left ( \\frac{2\\pi p}{N_xW}, \\frac{2\\pi q}{N_yW} \n",
    "\\right )$ where $p$ and $q$ are co-ordinates in a Fourier \n",
    "mesh in the range $-N_x/2$ to $N_x/2$ for an image with \n",
    "size $N_x, N_y$ and pixel size $W$.\n"
   ]
  },
  {
   "cell_type": "markdown",
   "metadata": {},
   "source": [
    "In the following cell:\n",
    "- Run the `PaganinProcessor` to retrieve $T(x,y)$ from the test dataset\n",
    "- Reconstruct using FBP"
   ]
  },
  {
   "cell_type": "code",
   "execution_count": null,
   "metadata": {},
   "outputs": [],
   "source": [
    "# phase retrieval\n",
    "processor = PaganinProcessor(delta=delta, beta=beta, energy=energy)\n",
    "processor.set_input(data)\n",
    "thickness = processor.get_output(override_geometry={'propagation_distance':10})\n",
    "# get a slice\n",
    "data_slice = thickness.get_slice(vertical='centre')\n",
    "# reconstruct the slice\n",
    "fbp =  FBP(data_slice, ig)\n",
    "recon_thickness = fbp.run(verbose=0)\n",
    "\n",
    "# calculate mu to get recon_attenuation with the same scaling as the original image\n",
    "attenuation = thickness*processor.mu\n",
    "# get a slice\n",
    "data_slice = attenuation.get_slice(vertical='centre')\n",
    "# reconstruct the slice\n",
    "fbp =  FBP(data_slice, ig)\n",
    "recon_attenuation = fbp.run(verbose=0)"
   ]
  },
  {
   "cell_type": "markdown",
   "metadata": {},
   "source": [
    "Next we test the phase retrieval using `PaganinProcessor(full_retrieval=False)`. In this implementation, the same filter is applied in Fourier space but the $-log()$ is not applied. \n",
    "$$\n",
    "I_{filt} = \\mathcal{F}^{-1}\\left (\\frac{\\mathcal{F}\\left ( \n",
    "        I(x, y,z = \\Delta) \\right )}\n",
    "        {1 - \\alpha\\left ( k_x^2 + k_y^2 \\right )}  \\right )\n",
    "$$\n",
    "This gives flexibility to apply a Paganin-like filter but doesn't require data that has already been converted from transmission to absorption.\n"
   ]
  },
  {
   "cell_type": "code",
   "execution_count": null,
   "metadata": {},
   "outputs": [],
   "source": [
    "# Run PaganinProcessor as a filter using full_retrieval=False on the absorption data and reconstruct\n",
    "processor = PaganinProcessor(delta=delta, beta=beta, energy=energy, full_retrieval=False)\n",
    "processor.set_input(data_abs)\n",
    "filtered_image = processor.get_output(override_geometry={'propagation_distance':10})\n",
    "# get a slice\n",
    "data_slice = filtered_image.get_slice(vertical='centre')\n",
    "# reconstruct the slice\n",
    "fbp =  FBP(data_slice, ig)\n",
    "recon_filter = fbp.run(verbose=0)"
   ]
  },
  {
   "cell_type": "markdown",
   "metadata": {},
   "source": [
    "Compare the reconstructions"
   ]
  },
  {
   "cell_type": "code",
   "execution_count": null,
   "metadata": {},
   "outputs": [],
   "source": [
    "vertical_slice = 67\n",
    "show2D([recon, recon_thickness, recon_attenuation, recon_filter],\n",
    "        title=['Original image', 'Phase retrieval - thickness', 'Phase retrieval - scaled by mu', \n",
    "               'Phase retrieval - full_retrieval=False'], slice_list=('vertical',vertical_slice))"
   ]
  },
  {
   "cell_type": "markdown",
   "metadata": {},
   "source": [
    "Zoom in on the reconstructions"
   ]
  },
  {
   "cell_type": "code",
   "execution_count": null,
   "metadata": {},
   "outputs": [],
   "source": [
    "x_range = slice(50,90)\n",
    "y_range = slice(50,90)\n",
    "\n",
    "show2D([recon.array[x_range,y_range], recon_thickness.array[x_range,y_range], recon_attenuation.array[x_range,y_range], recon_filter.array[x_range,y_range]],\n",
    "title=['Original image', 'Phase retrieval - thickness', 'Phase retrieval - scaled by mu', 'Phase retrieval - full_retrieval=False'], \n",
    "axis_labels = ('horizontal_x', 'horizontal_y'))"
   ]
  },
  {
   "cell_type": "markdown",
   "metadata": {},
   "source": [
    "Compare a cross-section through the reconstruction"
   ]
  },
  {
   "cell_type": "code",
   "execution_count": null,
   "metadata": {},
   "outputs": [],
   "source": [
    "fig, axs = plt.subplots(1,2, figsize=(12,5))\n",
    "ax = axs[0]\n",
    "vertical_slice = 67\n",
    "y_slice = 30\n",
    "x_range = range(65,90)\n",
    "ax.plot(x_range, recon.array[y_slice,x_range])\n",
    "ax.plot(x_range, recon_attenuation.array[y_slice,x_range])\n",
    "ax.plot(x_range, recon_filter.array[y_slice,x_range])\n",
    "\n",
    "ax.set_xlabel('Horizontal x')\n",
    "ax.set_ylabel('Intensity')\n",
    "ax.set_title('Line Profile at horizontal_y=' + str(y_slice) + ', vertical slice=' + str(vertical_slice))\n",
    "\n",
    "ax = axs[1]\n",
    "x_slice = 87\n",
    "y_range = range(65,90)\n",
    "ax.plot(y_range, recon.array[y_range,x_slice])\n",
    "ax.plot(y_range, recon_attenuation.array[y_range,x_slice])\n",
    "ax.plot(y_range, recon_filter.array[y_range,x_slice])\n",
    "\n",
    "ax.set_xlabel('Horizontal y')\n",
    "ax.set_ylabel('Intensity')\n",
    "ax.set_title('Line Profile at horizontal_x=' + str(x_slice) + ', vertical slice=' + str(vertical_slice))\n",
    "ax.legend(['Original', 'Phase retrieved - scaled by mu', 'Phase retrieved - full_retrieval=False'])"
   ]
  },
  {
   "cell_type": "markdown",
   "metadata": {},
   "source": [
    "We see that both methods blur the result in comparison to the original reconstruction.\n"
   ]
  },
  {
   "cell_type": "markdown",
   "metadata": {},
   "source": [
    "We can approximate the signal to noise of each reconstruction as the mean divided by the standard deviation"
   ]
  },
  {
   "cell_type": "code",
   "execution_count": null,
   "metadata": {},
   "outputs": [],
   "source": [
    "print(\"Original reconstruction SNR = {:.3f}\".format(np.abs(recon.mean()/recon.array.std())))\n",
    "print(\"Phase retrieved reconstruction SNR = {:.3f}\".format(np.abs(recon_attenuation.mean()/recon_attenuation.array.std())))\n",
    "print(\"Phase retrieved (full_retrieval=False) reconstruction SNR = {:.3f}\".format(np.abs(recon_filter.mean()/recon_filter.array.std())))"
   ]
  },
  {
   "cell_type": "markdown",
   "metadata": {},
   "source": [
    "In all cases, the phase retrieval improves the SNR"
   ]
  },
  {
   "cell_type": "markdown",
   "metadata": {},
   "source": [
    "\n",
    "##### Cone beam data"
   ]
  },
  {
   "cell_type": "code",
   "execution_count": 127,
   "metadata": {},
   "outputs": [],
   "source": [
    "delta = 1\n",
    "beta = 0.0001\n",
    "energy = 40000"
   ]
  },
  {
   "cell_type": "markdown",
   "metadata": {},
   "source": [
    "With cone beam data, the magnification $M$ has an effect on the phase retrieval\\\n",
    "$ T = -\\frac{1}{\\mu}\\ln(F^{-1}\\frac{F(M^2 I_{norm}(x,y,z=\\Delta))}{1+\\frac{\\Delta\\lambda\\delta}{4\\pi\\beta}(k_x^2+k_y^2)/M})$\\\n",
    "The $M^2$ on top means sometimes we get a number larger than 1 inside the $\\ln$"
   ]
  },
  {
   "cell_type": "markdown",
   "metadata": {},
   "source": [
    "Get some cone beam data and perform reconstruction without phase retrieval"
   ]
  },
  {
   "cell_type": "code",
   "execution_count": null,
   "metadata": {},
   "outputs": [],
   "source": [
    "data = dataexample.SIMULATED_CONE_BEAM_DATA.get()\n",
    "data.geometry.config.units = 'um'\n",
    "print('Magnification = ' + str(data.geometry.magnification))\n",
    "data.reorder(order='tigre')\n",
    "data_abs = -1*data.log()\n",
    "# get a slice\n",
    "data_slice = data_abs.get_slice(vertical='centre')\n",
    "ig = data_slice.geometry.get_ImageGeometry()\n",
    "# reconstruct the slice\n",
    "fdk =  FDK(data_slice, ig)\n",
    "recon = fdk.run(verbose=0)"
   ]
  },
  {
   "cell_type": "markdown",
   "metadata": {},
   "source": [
    "Run phase retrieval on raw data and reconstruct"
   ]
  },
  {
   "cell_type": "code",
   "execution_count": null,
   "metadata": {},
   "outputs": [],
   "source": [
    "# phase retrieval\n",
    "processor = PaganinProcessor(delta=delta, beta=beta, energy=energy)\n",
    "processor.set_input(data)\n",
    "thickness = processor.get_output()\n",
    "# get a slice\n",
    "data_slice = thickness.get_slice(vertical='centre')\n",
    "# reconstruct the slice\n",
    "fdk =  FDK(data_slice, ig)\n",
    "recon_thickness = fdk.run(verbose=0)\n",
    "# calculate mu to get recon_attenuation with the same scaling as the original image\n",
    "attenuation = thickness*processor.mu\n",
    "# get a slice\n",
    "data_slice = attenuation.get_slice(vertical='centre')\n",
    "# reconstruct the slice\n",
    "fdk =  FDK(data_slice, ig)\n",
    "recon_attenuation = fdk.run(verbose=0)"
   ]
  },
  {
   "cell_type": "markdown",
   "metadata": {},
   "source": [
    "Run PaganinProcessor as a filter using `get_output(full_retrieval=False)` on the absorption data and reconstruct"
   ]
  },
  {
   "cell_type": "code",
   "execution_count": null,
   "metadata": {},
   "outputs": [],
   "source": [
    "# phase retrieval\n",
    "processor = PaganinProcessor(delta=delta, beta=beta, energy=energy, full_retrieval=False)\n",
    "processor.set_input(data_abs)\n",
    "filtered_image = processor.get_output()\n",
    "# get a slice\n",
    "data_slice = filtered_image.get_slice(vertical='centre')\n",
    "# reconstruct the slice\n",
    "fdk =  FDK(data_slice, ig)\n",
    "recon_filter = fdk.run(verbose=0)"
   ]
  },
  {
   "cell_type": "markdown",
   "metadata": {},
   "source": [
    "Compare the reconstructions"
   ]
  },
  {
   "cell_type": "code",
   "execution_count": null,
   "metadata": {},
   "outputs": [],
   "source": [
    "vertical_slice = 67\n",
    "x_range = slice(50,90)\n",
    "y_range = slice(50,90)\n",
    "show2D([recon.array[x_range,y_range], recon_thickness.array[x_range,y_range], recon_attenuation.array[x_range,y_range], recon_filter.array[x_range,y_range]],\n",
    "title=['Original image', 'Phase retrieval - thickness', 'Phase retrieval - scaled by mu', 'Phase retrieval - full_retrieval=False'],\n",
    "axis_labels = ('horizontal_x', 'horizontal_y'))"
   ]
  },
  {
   "cell_type": "markdown",
   "metadata": {},
   "source": [
    "Compare the cross-sections through the reconstructions"
   ]
  },
  {
   "cell_type": "code",
   "execution_count": null,
   "metadata": {},
   "outputs": [],
   "source": [
    "fig, axs = plt.subplots(1,2, figsize=(12,5))\n",
    "ax = axs[0]\n",
    "vertical_slice = 67\n",
    "y_slice = 80\n",
    "x_range = range(50,90)\n",
    "ax.plot(x_range, recon.array[ y_slice, x_range])\n",
    "ax.plot(x_range, recon_attenuation.array[ y_slice, x_range])\n",
    "ax.plot(x_range, recon_filter.array[ y_slice, x_range])\n",
    "\n",
    "ax.set_xlabel('Horizontal x')\n",
    "ax.set_ylabel('Intensity')\n",
    "ax.set_title('Line Profile at horizontal_y=' + str(y_slice) + ', vertical slice=' + str(vertical_slice))\n",
    "\n",
    "ax = axs[1]\n",
    "x_slice = 30\n",
    "y_range = range(50,90)\n",
    "ax.plot(y_range, recon.array[y_range,x_slice])\n",
    "ax.plot(y_range, recon_attenuation.array[y_range,x_slice])\n",
    "ax.plot(y_range, recon_filter.array[y_range,x_slice])\n",
    "\n",
    "ax.set_xlabel('Horizontal y')\n",
    "ax.set_ylabel('Intensity')\n",
    "ax.set_title('Line Profile at horizontal_x=' + str(x_slice) + ', vertical slice=' + str(vertical_slice))\n",
    "ax.legend(['Original', 'Phase retrieval - scaled by mu', 'Phase retrieval - full_retrieval=False'])\n",
    "\n",
    "plt.tight_layout()\n"
   ]
  },
  {
   "cell_type": "markdown",
   "metadata": {},
   "source": [
    "We can see that both methods blur the original image. The phase retrieval method becomes negative because of the values > 1 are passed into the negative log. This may be an indication that the full phase retrieval is not valid for this experimental setup, in which case using `full_retrieval = False` may be more useful as it just applies a Paganin-like filter to the data "
   ]
  },
  {
   "cell_type": "markdown",
   "metadata": {},
   "source": [
    "Compare the signal to noise ratio"
   ]
  },
  {
   "cell_type": "code",
   "execution_count": null,
   "metadata": {},
   "outputs": [],
   "source": [
    "print(\"Original reconstruction SNR = {:.3f}\".format(np.abs(recon.mean()/recon.array.std())))\n",
    "print(\"Phase retrieved reconstruction SNR = {:.3f}\".format(np.abs(recon_attenuation.mean()/recon_attenuation.array.std())))\n",
    "print(\"Phase retrieved (full_retrieval=False) reconstruction SNR = {:.3f}\".format(np.abs(recon_filter.mean()/recon_filter.array.std())))"
   ]
  },
  {
   "cell_type": "markdown",
   "metadata": {},
   "source": [
    "The negative values in the phase retrival skew the result but with full_retrieval=False the SNR is improved"
   ]
  },
  {
   "cell_type": "markdown",
   "metadata": {},
   "source": [
    "##### Generalised Paganin method"
   ]
  },
  {
   "cell_type": "markdown",
   "metadata": {},
   "source": [
    "The generalised Paganin method is implemented in CIL following the description in https://iopscience.iop.org/article/10.1088/2040-8986/abbab9 \\\n",
    "When features in the image are close to the Nyquist frequency of the system, a more generalised form of the Pagnin filter can be used which preserves these high frequency features while still boosting SNR. This may have a similar effect to applying an unsharp mask after the normal Paganin phase retrieval. "
   ]
  },
  {
   "cell_type": "markdown",
   "metadata": {},
   "source": [
    "$$\n",
    "T(x,y) =  -\\frac{1}{\\mu}\\ln\\left (\\mathcal{F}^{-1}\\left (\\frac{\n",
    "        \\mathcal{F}\\left ( M^2I_{norm}(x, y,z = \\Delta) \\right )}{1 - \\frac{2\n",
    "        \\alpha}{W^2}\\left ( \\cos(Wk_x) + \\cos(Wk_y) -2 \\right )}  \\right )\n",
    "        \\right )\n",
    "$$"
   ]
  },
  {
   "cell_type": "markdown",
   "metadata": {},
   "source": [
    "Choose delta and beta"
   ]
  },
  {
   "cell_type": "code",
   "execution_count": 134,
   "metadata": {},
   "outputs": [],
   "source": [
    "delta = 1\n",
    "beta = 0.001"
   ]
  },
  {
   "cell_type": "markdown",
   "metadata": {},
   "source": [
    "Get the simulated parallel data and perform the reconstruction without phase retrieval"
   ]
  },
  {
   "cell_type": "code",
   "execution_count": 135,
   "metadata": {},
   "outputs": [],
   "source": [
    "data = dataexample.SIMULATED_PARALLEL_BEAM_DATA.get()\n",
    "data.geometry.config.units = 'um'\n",
    "data.reorder(order='tigre')\n",
    "data_abs = -1*data.log()\n",
    "# get a slice\n",
    "data_slice = data_abs.get_slice(vertical='centre')\n",
    "ig = data_slice.geometry.get_ImageGeometry()\n",
    "# reconstruct the slice\n",
    "fbp =  FBP(data_slice, ig)\n",
    "recon = fbp.run(verbose=0)"
   ]
  },
  {
   "cell_type": "markdown",
   "metadata": {},
   "source": [
    "Run phase retrival using the original Paganin method and reconstruct"
   ]
  },
  {
   "cell_type": "code",
   "execution_count": null,
   "metadata": {},
   "outputs": [],
   "source": [
    "processor = PaganinProcessor(delta=delta, beta=beta, energy=energy)\n",
    "processor.set_input(data)\n",
    "thickness = processor.get_output(override_geometry={'propagation_distance':10})\n",
    "# get a slice\n",
    "data_slice = thickness.get_slice(vertical='centre')\n",
    "# reconstruct the slice\n",
    "fbp =  FBP(data_slice, ig)\n",
    "recon_thickness = fbp.run(verbose=0)\n",
    "\n",
    "# calculate mu to get recon_attenuation with the same scaling as the original image\n",
    "attenuation = thickness*processor.mu\n",
    "# get a slice\n",
    "data_slice = attenuation.get_slice(vertical='centre')\n",
    "# reconstruct the slice\n",
    "fbp =  FBP(data_slice, ig)\n",
    "recon_attenuation = fbp.run(verbose=0)"
   ]
  },
  {
   "cell_type": "markdown",
   "metadata": {},
   "source": [
    "Run phase retrieval on the data using the generalised Paganin method and reconstruct"
   ]
  },
  {
   "cell_type": "code",
   "execution_count": null,
   "metadata": {},
   "outputs": [],
   "source": [
    "processor = PaganinProcessor(delta=delta, beta=beta, energy=energy, filter_type='generalised_paganin_method')\n",
    "processor.set_input(data)\n",
    "thickness_GPM = processor.get_output(override_geometry={'propagation_distance':10})\n",
    "# get a slice\n",
    "data_slice = thickness_GPM.get_slice(vertical='centre')\n",
    "# reconstruct the slice\n",
    "fbp =  FBP(data_slice, ig)\n",
    "recon_thickness_GPM = fbp.run(verbose=0)\n",
    "\n",
    "# calculate mu to get recon_attenuation with the same scaling as the original image\n",
    "attenuation_GPM = thickness_GPM*processor.mu\n",
    "# get a slice\n",
    "data_slice = attenuation_GPM.get_slice(vertical='centre')\n",
    "# reconstruct the slice\n",
    "fbp =  FBP(data_slice, ig)\n",
    "recon_attenuation_GPM = fbp.run(verbose=0)"
   ]
  },
  {
   "cell_type": "markdown",
   "metadata": {},
   "source": [
    "Plot cross-sections through the results"
   ]
  },
  {
   "cell_type": "code",
   "execution_count": null,
   "metadata": {},
   "outputs": [],
   "source": [
    "fig, axs = plt.subplots(1,2, figsize=(12,5))\n",
    "ax = axs[0]\n",
    "vertical_slice = 67\n",
    "y_slice = 80\n",
    "x_range = range(50,90)\n",
    "ax.plot(recon.array[ y_slice, x_range])\n",
    "ax.plot(recon_attenuation.array[ y_slice, x_range])\n",
    "ax.plot(recon_attenuation_GPM.array[ y_slice, x_range])\n",
    "\n",
    "ax.set_xlabel('Horizontal x')\n",
    "ax.set_ylabel('Intensity')\n",
    "ax.set_title('Line Profile at horizontal_x=' + str(x_slice) + ', vertical slice=' + str(vertical_slice))\n",
    "ax.legend(['Original', 'Phase retrieval', 'Phase retrieval - GPM'])\n",
    "\n",
    "ax = axs[1]\n",
    "x_slice = 75\n",
    "y_range = range(50,90)\n",
    "ax.plot(recon.array[y_range,x_slice])\n",
    "ax.plot(recon_attenuation.array[y_range,x_slice])\n",
    "ax.plot(recon_attenuation_GPM.array[y_range,x_slice])\n",
    "\n",
    "ax.set_xlabel('Horizontal y')\n",
    "ax.set_ylabel('Intensity')\n",
    "ax.set_title('Line Profile at horizontal_x=' + str(x_slice) + ', vertical slice=' + str(vertical_slice))\n"
   ]
  },
  {
   "cell_type": "markdown",
   "metadata": {},
   "source": [
    "Check the SNR"
   ]
  },
  {
   "cell_type": "code",
   "execution_count": null,
   "metadata": {},
   "outputs": [],
   "source": [
    "print(\"Original reconstruction SNR = {:.3f}\".format(np.abs(recon.mean()/recon.array.std())))\n",
    "print(\"Phase retrieved reconstruction SNR = {:.3f}\".format(np.abs(recon_attenuation.mean()/recon_attenuation.array.std())))\n",
    "print(\"Phase retrieved with GPM reconstruction SNR  =  {:.3f}\".format(np.abs(recon_attenuation_GPM.mean()/recon_attenuation_GPM.array.std())))"
   ]
  },
  {
   "cell_type": "markdown",
   "metadata": {},
   "source": [
    "The GPM has slightly improved resolution of the sample features while maintaining the SNR boost"
   ]
  },
  {
   "cell_type": "markdown",
   "metadata": {},
   "source": [
    "#### TomoBank example"
   ]
  },
  {
   "cell_type": "markdown",
   "metadata": {},
   "source": [
    "This example uses dataset tomo_00064 and tomo_00065 from TomoBank [1] https://tomobank.readthedocs.io/en/latest/source/data/docs.data.phasecontrast.html#multi-distance\n",
    "\n",
    "The relevant datasets can be retrieved using:\n",
    "\n",
    "`wget https://g-a0400.fd635.8443.data.globus.org/tomo_00064_to_00067/tomo_00064.h5`\n",
    "\n",
    "and `wget https://g-a0400.fd635.8443.data.globus.org/tomo_00064_to_00067/tomo_00065.h5`\n",
    "\n",
    "[1] De Carlo, Francesco, et al. “TomoBank: a tomographic data repository for computational x-ray science.” Measurement Science and Technology 29.3 (2018): 034004. http://www.doi.org/10.1088/1361-6501/aa9c19"
   ]
  },
  {
   "cell_type": "markdown",
   "metadata": {},
   "source": [
    "Load the file, you may need to change the filename to the path where you downloaded it"
   ]
  },
  {
   "cell_type": "code",
   "execution_count": 140,
   "metadata": {},
   "outputs": [],
   "source": [
    "filename = '/mnt/materials/SIRF/Fully3D/CIL/Phase/tomo_00065.h5' \n",
    "data = HDF5_utilities.read(filename=filename, dset_path='/exchange/data')\n",
    "data_dark = HDF5_utilities.read(filename, dset_path='/exchange/data_dark')\n",
    "data_flat = HDF5_utilities.read(filename, dset_path='/exchange/data_white')"
   ]
  },
  {
   "cell_type": "markdown",
   "metadata": {},
   "source": [
    "Construct a CIL AcquisitionData object using the parameters in https://tomobank.readthedocs.io/en/latest/source/data/docs.data.phasecontrast.html#multi-distance"
   ]
  },
  {
   "cell_type": "code",
   "execution_count": 141,
   "metadata": {},
   "outputs": [],
   "source": [
    "pixel_size = 0.0014 #mm\n",
    "propagation_distance = 58 #mm\n",
    "angles = HDF5_utilities.read(filename=filename, dset_path='/exchange/theta')\n",
    "ag = AcquisitionGeometry.create_Parallel3D(detector_position=[0, propagation_distance, 0], units='mm').set_panel([np.shape(data)[2],np.shape(data)[1]], pixel_size=pixel_size).set_angles(angles)\n",
    "data = AcquisitionData(data, deep_copy=False, geometry = ag)\n",
    "data.reorder(order='tigre')"
   ]
  },
  {
   "cell_type": "code",
   "execution_count": 142,
   "metadata": {},
   "outputs": [],
   "source": [
    "data = Normaliser(dark_field=data_dark.mean(axis=0), flat_field=data_flat.mean(axis=0))(data)"
   ]
  },
  {
   "cell_type": "code",
   "execution_count": null,
   "metadata": {},
   "outputs": [],
   "source": [
    "show2D(data)"
   ]
  },
  {
   "cell_type": "markdown",
   "metadata": {},
   "source": [
    "Run phase retrieval on the raw data\n",
    "\n",
    "Parameters from https://tomobank.readthedocs.io/en/latest/source/data/docs.data.phasecontrast.html#multi-distance"
   ]
  },
  {
   "cell_type": "code",
   "execution_count": null,
   "metadata": {},
   "outputs": [],
   "source": [
    "delta = 1\n",
    "beta = 1e-2\n",
    "energy = 55000\n",
    "\n",
    "processor = PaganinProcessor(delta=delta, beta=beta, energy=energy)\n",
    "processor.set_input(data)\n",
    "thickness = processor.get_output()\n",
    "\n",
    "# calculate mu to get recon_attenuation with the same scaling as the original image\n",
    "data_phase = thickness*processor.mu"
   ]
  },
  {
   "cell_type": "markdown",
   "metadata": {},
   "source": [
    "Run phase retrieval using the generalised Paganin method on the raw data"
   ]
  },
  {
   "cell_type": "code",
   "execution_count": null,
   "metadata": {},
   "outputs": [],
   "source": [
    "processor = PaganinProcessor(delta=delta, beta=beta, energy=energy, \n",
    "                             filter_type='generalised_paganin_method')\n",
    "processor.set_input(data)\n",
    "thickness = processor.get_output()\n",
    "\n",
    "# calculate mu to get recon_attenuation with the same scaling as the original image\n",
    "data_phase_generalised = thickness*processor.mu"
   ]
  },
  {
   "cell_type": "markdown",
   "metadata": {},
   "source": [
    "Get a slice of each data set"
   ]
  },
  {
   "cell_type": "code",
   "execution_count": 146,
   "metadata": {},
   "outputs": [],
   "source": [
    "vertical_slice = 325\n",
    "data_phase = data_phase.get_slice(vertical=vertical_slice)"
   ]
  },
  {
   "cell_type": "code",
   "execution_count": 147,
   "metadata": {},
   "outputs": [],
   "source": [
    "vertical_slice = 325\n",
    "data_phase_generalised = data_phase_generalised.get_slice(vertical=vertical_slice)"
   ]
  },
  {
   "cell_type": "markdown",
   "metadata": {},
   "source": [
    "For comparison just run TransmissionAbsorptionConverter on the same slice of the original data"
   ]
  },
  {
   "cell_type": "code",
   "execution_count": null,
   "metadata": {},
   "outputs": [],
   "source": [
    "data_slice = data.get_slice(vertical=vertical_slice)\n",
    "\n",
    "processor = TransmissionAbsorptionConverter()\n",
    "processor.set_input(data_slice)\n",
    "processor.get_output(out=data_slice)"
   ]
  },
  {
   "cell_type": "markdown",
   "metadata": {},
   "source": [
    "Reconstruct all datasets"
   ]
  },
  {
   "cell_type": "code",
   "execution_count": 149,
   "metadata": {},
   "outputs": [],
   "source": [
    "# Pad the data\n",
    "ig = data_slice.geometry.get_ImageGeometry()\n",
    "padsize = 500\n",
    "data_slice = Padder.linear_ramp(pad_width={'horizontal': padsize}, end_values=0)(data_slice)\n",
    "data_phase = Padder.linear_ramp(pad_width={'horizontal': padsize}, end_values=0)(data_phase)\n",
    "data_phase_generalised = Padder.linear_ramp(pad_width={'horizontal': padsize}, end_values=0)(data_phase_generalised)\n",
    "\n",
    "# Reconstruct\n",
    "fbp =  FBP(data_slice, ig)\n",
    "recon = fbp.run(verbose=0)\n",
    "\n",
    "fbp =  FBP(data_phase, ig)\n",
    "recon_phase = fbp.run(verbose=0)\n",
    "\n",
    "fbp =  FBP(data_phase_generalised, ig)\n",
    "recon_phase_g = fbp.run(verbose=0)"
   ]
  },
  {
   "cell_type": "markdown",
   "metadata": {},
   "source": [
    "Compare the reconstructions"
   ]
  },
  {
   "cell_type": "code",
   "execution_count": null,
   "metadata": {},
   "outputs": [],
   "source": [
    "show2D([recon, recon_phase, recon_phase_g], ['Original','Paganin Method', 'Generalised Paganin Method'], num_cols=3, slice_list={'horizontal_y':175})"
   ]
  },
  {
   "cell_type": "markdown",
   "metadata": {},
   "source": [
    "Plot a difference map between the Paganin Method and Generalised Paganin Method reconstructions"
   ]
  },
  {
   "cell_type": "code",
   "execution_count": null,
   "metadata": {},
   "outputs": [],
   "source": [
    "show2D(recon_phase.array-recon_phase_g.array, title='Paganin Method - Generalised Paganin Method', cmap='seismic', fix_range=(-0.0075, 0.0075), slice_list={'horizontal_y':175})"
   ]
  },
  {
   "cell_type": "markdown",
   "metadata": {},
   "source": [
    "We see some of the high resolution details (e.g. the edges) are preserved in the GPM"
   ]
  },
  {
   "cell_type": "markdown",
   "metadata": {},
   "source": [
    "Compare SNR"
   ]
  },
  {
   "cell_type": "code",
   "execution_count": null,
   "metadata": {},
   "outputs": [],
   "source": [
    "print(\"Original reconstruction SNR = {:.3f}\".format(np.abs(recon.mean()/recon.array.std())))\n",
    "print(\"Phase retrieved reconstruction SNR = {:.3f}\".format(np.abs(recon_phase.mean()/recon_phase.array.std())))\n",
    "print(\"Phase retrieved with GPM reconstruction SNR = {:.3f}\".format(np.abs(recon_phase_g.mean()/recon_phase_g.array.std())))"
   ]
  },
  {
   "cell_type": "markdown",
   "metadata": {},
   "source": [
    "Plot cross-sections through the reconstructions to check how well the phase retrieval removes the fringes"
   ]
  },
  {
   "cell_type": "code",
   "execution_count": null,
   "metadata": {},
   "outputs": [],
   "source": [
    "plt.plot(recon.array[:,175])\n",
    "plt.plot(recon_phase.array[:,175])\n",
    "plt.plot(recon_phase_g.array[:,175])\n",
    "plt.legend(['Original', 'Paganin Method', 'Generalised Paganin Method'])"
   ]
  },
  {
   "cell_type": "markdown",
   "metadata": {},
   "source": [
    "We can also compare the phase retrieval with the same sample which was imaged with a much shorted propagation distance (8mm)"
   ]
  },
  {
   "cell_type": "code",
   "execution_count": 154,
   "metadata": {},
   "outputs": [],
   "source": [
    "filename = '/mnt/materials/SIRF/Fully3D/CIL/Phase/tomo_00064.h5' \n",
    "data_8mm = HDF5_utilities.read(filename=filename, dset_path='/exchange/data')\n",
    "data_dark = HDF5_utilities.read(filename, dset_path='/exchange/data_dark')\n",
    "data_flat = HDF5_utilities.read(filename, dset_path='/exchange/data_white')"
   ]
  },
  {
   "cell_type": "code",
   "execution_count": 155,
   "metadata": {},
   "outputs": [],
   "source": [
    "pixel_size = 0.0014 #mm\n",
    "propagation_distance = 8 #mm\n",
    "angles = HDF5_utilities.read(filename=filename, dset_path='/exchange/theta')\n",
    "ag = AcquisitionGeometry.create_Parallel3D(detector_position=[0, propagation_distance, 0], units='mm').set_panel([np.shape(data)[2],np.shape(data)[1]], pixel_size=pixel_size).set_angles(angles)\n",
    "data_8mm = AcquisitionData(data_8mm, deep_copy=False, geometry = ag)\n",
    "data_8mm.reorder(order='tigre')"
   ]
  },
  {
   "cell_type": "code",
   "execution_count": 156,
   "metadata": {},
   "outputs": [],
   "source": [
    "data_8mm = Normaliser(dark_field=data_dark.mean(axis=0), flat_field=data_flat.mean(axis=0))(data_8mm)"
   ]
  },
  {
   "cell_type": "code",
   "execution_count": null,
   "metadata": {},
   "outputs": [],
   "source": [
    "show2D(data_8mm)"
   ]
  },
  {
   "cell_type": "markdown",
   "metadata": {},
   "source": [
    "Get a single slice and convert to absorption"
   ]
  },
  {
   "cell_type": "code",
   "execution_count": null,
   "metadata": {},
   "outputs": [],
   "source": [
    "data_slice_8mm = data_8mm.get_slice(vertical=vertical_slice)\n",
    "\n",
    "processor = TransmissionAbsorptionConverter(min_intensity=0.001)\n",
    "processor.set_input(data_slice_8mm)\n",
    "processor.get_output(out=data_slice_8mm)\n"
   ]
  },
  {
   "cell_type": "markdown",
   "metadata": {},
   "source": [
    "Pad the data and reconstruct it"
   ]
  },
  {
   "cell_type": "code",
   "execution_count": 159,
   "metadata": {},
   "outputs": [],
   "source": [
    "# Pad the data\n",
    "ig = data_slice_8mm.geometry.get_ImageGeometry()\n",
    "padsize = 500\n",
    "data_slice_8mm = Padder.linear_ramp(pad_width={'horizontal': padsize}, end_values=0)(data_slice_8mm)\n",
    "# Reconstruct\n",
    "fbp =  FBP(data_slice_8mm, ig)\n",
    "recon_8mm = fbp.run(verbose=0)"
   ]
  },
  {
   "cell_type": "code",
   "execution_count": null,
   "metadata": {},
   "outputs": [],
   "source": [
    "show2D([recon, recon_phase, recon_8mm], ['58mm propagation', '58mm propagation - PM', '8mm propagation'], num_cols=3, slice_list={'horizontal_y':175})"
   ]
  },
  {
   "cell_type": "markdown",
   "metadata": {},
   "source": [
    "The phase retrieval acts as an effective filter but it doesn't return the original shape of the sample which was measured with 8mm propagation distance.\n",
    "\n",
    "We can check if we are in the Fresnel limit by calculating the Fresnel Number\n",
    "$$\n",
    "N_F = \\frac{W^2}{\\lambda\\Delta} >> 1\n",
    "$$"
   ]
  },
  {
   "cell_type": "code",
   "execution_count": null,
   "metadata": {},
   "outputs": [],
   "source": [
    "wavelength = (constants.h*constants.speed_of_light)/(energy*constants.electron_volt)\n",
    "NF = (data.geometry.pixel_size_h*1e-3)**2/(wavelength*58* 1e-3)\n",
    "print(r\"For propagation = 58mm, NF = {:.3f}\".format(NF))\n",
    "NF = (data.geometry.pixel_size_h*1e-3)**2/(wavelength*8* 1e-3)\n",
    "print(r\"For propagation = 8mm, NF = {:.3f}\".format(NF))"
   ]
  },
  {
   "cell_type": "markdown",
   "metadata": {},
   "source": [
    "A Fresnel number just greater than 1 suggests different phase retrieval methods might be required to fully account for the phase effect in the data."
   ]
  }
 ],
 "metadata": {
  "kernelspec": {
   "display_name": "cil_phase_demo",
   "language": "python",
   "name": "python3"
  },
  "language_info": {
   "codemirror_mode": {
    "name": "ipython",
    "version": 3
   },
   "file_extension": ".py",
   "mimetype": "text/x-python",
   "name": "python",
   "nbconvert_exporter": "python",
   "pygments_lexer": "ipython3",
   "version": "3.12.7"
  }
 },
 "nbformat": 4,
 "nbformat_minor": 2
}
